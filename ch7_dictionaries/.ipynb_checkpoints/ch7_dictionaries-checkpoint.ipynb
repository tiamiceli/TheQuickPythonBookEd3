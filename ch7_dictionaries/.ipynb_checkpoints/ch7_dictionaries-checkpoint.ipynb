{
 "cells": [
  {
   "cell_type": "markdown",
   "metadata": {},
   "source": [
    "# Ch 7. Dictionaries\n",
    "\n",
    "* Defining a dictionary\n",
    "* Using dictionary operations\n",
    "* Determining what can be used as a key\n",
    "* Creating sparse matrices\n",
    "* Using dictionaries as chaches\n",
    "* Trusting the efficiency of dictionaries"
   ]
  },
  {
   "cell_type": "code",
   "execution_count": 1,
   "metadata": {},
   "outputs": [],
   "source": [
    "from IPython.core.interactiveshell import InteractiveShell\n",
    "InteractiveShell.ast_node_interactivity = \"all\""
   ]
  },
  {
   "cell_type": "markdown",
   "metadata": {},
   "source": [
    "## 7.1 What is a dictionary?"
   ]
  },
  {
   "cell_type": "code",
   "execution_count": 2,
   "metadata": {},
   "outputs": [
    {
     "data": {
      "text/plain": [
       "list"
      ]
     },
     "execution_count": 2,
     "metadata": {},
     "output_type": "execute_result"
    },
    {
     "data": {
      "text/plain": [
       "dict"
      ]
     },
     "execution_count": 2,
     "metadata": {},
     "output_type": "execute_result"
    }
   ],
   "source": [
    "x = []\n",
    "y = {}\n",
    "type(x)\n",
    "type(y)"
   ]
  },
  {
   "cell_type": "code",
   "execution_count": 3,
   "metadata": {},
   "outputs": [
    {
     "data": {
      "text/plain": [
       "{0: 'Hello', 1: 'Goodbye'}"
      ]
     },
     "execution_count": 3,
     "metadata": {},
     "output_type": "execute_result"
    }
   ],
   "source": [
    "y[0] = 'Hello'\n",
    "y[1] = 'Goodbye'\n",
    "y"
   ]
  },
  {
   "cell_type": "code",
   "execution_count": 4,
   "metadata": {},
   "outputs": [
    {
     "ename": "IndexError",
     "evalue": "list assignment index out of range",
     "output_type": "error",
     "traceback": [
      "\u001b[0;31m---------------------------------------------------------------------------\u001b[0m",
      "\u001b[0;31mIndexError\u001b[0m                                Traceback (most recent call last)",
      "\u001b[0;32m<ipython-input-4-4759a6563eea>\u001b[0m in \u001b[0;36m<module>\u001b[0;34m\u001b[0m\n\u001b[1;32m      1\u001b[0m \u001b[0;31m#breaks for list. need to use append\u001b[0m\u001b[0;34m\u001b[0m\u001b[0;34m\u001b[0m\u001b[0;34m\u001b[0m\u001b[0m\n\u001b[0;32m----> 2\u001b[0;31m \u001b[0mx\u001b[0m\u001b[0;34m[\u001b[0m\u001b[0;36m0\u001b[0m\u001b[0;34m]\u001b[0m \u001b[0;34m=\u001b[0m \u001b[0;34m'Hello'\u001b[0m \u001b[0;31m# fail\u001b[0m\u001b[0;34m\u001b[0m\u001b[0;34m\u001b[0m\u001b[0m\n\u001b[0m",
      "\u001b[0;31mIndexError\u001b[0m: list assignment index out of range"
     ]
    }
   ],
   "source": [
    "#breaks for list. need to use append\n",
    "x[0] = 'Hello' # fail"
   ]
  },
  {
   "cell_type": "code",
   "execution_count": 5,
   "metadata": {},
   "outputs": [
    {
     "name": "stdout",
     "output_type": "stream",
     "text": [
      "Hello\n"
     ]
    },
    {
     "data": {
      "text/plain": [
       "'Goodbye, Friend.'"
      ]
     },
     "execution_count": 5,
     "metadata": {},
     "output_type": "execute_result"
    }
   ],
   "source": [
    "print(y[0])\n",
    "y[1] + \", Friend.\""
   ]
  },
  {
   "cell_type": "code",
   "execution_count": 6,
   "metadata": {},
   "outputs": [
    {
     "data": {
      "text/plain": [
       "6.28"
      ]
     },
     "execution_count": 6,
     "metadata": {},
     "output_type": "execute_result"
    }
   ],
   "source": [
    "y[\"two\"] = 2\n",
    "y[\"pi\"] = 3.14\n",
    "y[\"two\"] * y[\"pi\"]"
   ]
  },
  {
   "cell_type": "code",
   "execution_count": 7,
   "metadata": {},
   "outputs": [
    {
     "name": "stdout",
     "output_type": "stream",
     "text": [
      "red is rouge\n"
     ]
    }
   ],
   "source": [
    "english_to_french = {}\n",
    "english_to_french['red'] = 'rouge'\n",
    "english_to_french['blue'] = 'bleu'\n",
    "english_to_french['green'] = 'vert'\n",
    "print(\"red is\", english_to_french['red'])"
   ]
  },
  {
   "cell_type": "code",
   "execution_count": 8,
   "metadata": {},
   "outputs": [
    {
     "name": "stdout",
     "output_type": "stream",
     "text": [
      "Enter a name: Abby\n",
      "Enter the age of Abby: 7\n",
      "Enter a name: Bobby\n",
      "Enter the age of Bobby: 8\n",
      "Enter a name: Cappy\n",
      "Enter the age of Cappy: 9\n",
      "Who do you want to know the age of? Cappy\n",
      "9\n"
     ]
    }
   ],
   "source": [
    "age_dict = {}\n",
    "for entry in range(3):\n",
    "    name = str(input(\"Enter a name: \"))\n",
    "    age = int(input(f\"Enter the age of {name}: \"))\n",
    "    age_dict[name] = age\n",
    "    \n",
    "name = str(input('Who do you want to know the age of? '))\n",
    "print(age_dict[name])"
   ]
  },
  {
   "cell_type": "markdown",
   "metadata": {},
   "source": [
    "## 7.2 Other dictionary operations"
   ]
  },
  {
   "cell_type": "code",
   "execution_count": 9,
   "metadata": {},
   "outputs": [
    {
     "data": {
      "text/plain": [
       "3"
      ]
     },
     "execution_count": 9,
     "metadata": {},
     "output_type": "execute_result"
    },
    {
     "data": {
      "text/plain": [
       "['red', 'blue', 'green']"
      ]
     },
     "execution_count": 9,
     "metadata": {},
     "output_type": "execute_result"
    },
    {
     "data": {
      "text/plain": [
       "['rouge', 'bleu', 'vert']"
      ]
     },
     "execution_count": 9,
     "metadata": {},
     "output_type": "execute_result"
    },
    {
     "data": {
      "text/plain": [
       "[('red', 'rouge'), ('blue', 'bleu'), ('green', 'vert')]"
      ]
     },
     "execution_count": 9,
     "metadata": {},
     "output_type": "execute_result"
    },
    {
     "data": {
      "text/plain": [
       "[('red', 'rouge'), ('blue', 'bleu')]"
      ]
     },
     "execution_count": 9,
     "metadata": {},
     "output_type": "execute_result"
    },
    {
     "data": {
      "text/plain": [
       "dict_items([('red', 'rouge'), ('blue', 'bleu')])"
      ]
     },
     "execution_count": 9,
     "metadata": {},
     "output_type": "execute_result"
    },
    {
     "data": {
      "text/plain": [
       "dict_items"
      ]
     },
     "execution_count": 9,
     "metadata": {},
     "output_type": "execute_result"
    }
   ],
   "source": [
    "english_to_french = {'red': 'rouge', 'blue': 'bleu', 'green': 'vert'}\n",
    "len(english_to_french)\n",
    "list(english_to_french.keys())\n",
    "list(english_to_french.values())\n",
    "list(english_to_french.items())\n",
    "del english_to_french['green']\n",
    "list(english_to_french.items())\n",
    "english_to_french.items()\n",
    "type(english_to_french.items())"
   ]
  },
  {
   "cell_type": "code",
   "execution_count": 10,
   "metadata": {},
   "outputs": [
    {
     "data": {
      "text/plain": [
       "True"
      ]
     },
     "execution_count": 10,
     "metadata": {},
     "output_type": "execute_result"
    },
    {
     "data": {
      "text/plain": [
       "False"
      ]
     },
     "execution_count": 10,
     "metadata": {},
     "output_type": "execute_result"
    }
   ],
   "source": [
    "'red' in english_to_french\n",
    "'orange' in english_to_french"
   ]
  },
  {
   "cell_type": "code",
   "execution_count": 11,
   "metadata": {},
   "outputs": [
    {
     "name": "stdout",
     "output_type": "stream",
     "text": [
      "bleu\n",
      "No translation\n",
      "None\n"
     ]
    }
   ],
   "source": [
    "print(english_to_french.get('blue', 'No translation'))\n",
    "print(english_to_french.get('chartreuse', 'No translation'))\n",
    "print(english_to_french.get('pink'))"
   ]
  },
  {
   "cell_type": "code",
   "execution_count": 12,
   "metadata": {},
   "outputs": [
    {
     "name": "stdout",
     "output_type": "stream",
     "text": [
      "No translation\n",
      "{'red': 'rouge', 'blue': 'bleu', 'chartreuse': 'No translation'}\n"
     ]
    }
   ],
   "source": [
    "print(english_to_french.setdefault('chartreuse', 'No translation'))\n",
    "print(english_to_french)"
   ]
  },
  {
   "cell_type": "code",
   "execution_count": 13,
   "metadata": {},
   "outputs": [
    {
     "data": {
      "text/plain": [
       "{0: 'zero', 1: 'one'}"
      ]
     },
     "execution_count": 13,
     "metadata": {},
     "output_type": "execute_result"
    },
    {
     "data": {
      "text/plain": [
       "{0: 'ZERO', 1: 'one'}"
      ]
     },
     "execution_count": 13,
     "metadata": {},
     "output_type": "execute_result"
    },
    {
     "data": {
      "text/plain": [
       "{0: 'zero', 1: 'one'}"
      ]
     },
     "execution_count": 13,
     "metadata": {},
     "output_type": "execute_result"
    }
   ],
   "source": [
    "x = {0: 'zero', 1: 'one'}\n",
    "y = x.copy()\n",
    "y\n",
    "x[0] = 'ZERO'\n",
    "x\n",
    "y"
   ]
  },
  {
   "cell_type": "code",
   "execution_count": 14,
   "metadata": {},
   "outputs": [
    {
     "data": {
      "text/plain": [
       "{0: ['0', '00', '000'], 1: ['one', 'One', 'ONE']}"
      ]
     },
     "execution_count": 14,
     "metadata": {},
     "output_type": "execute_result"
    },
    {
     "data": {
      "text/plain": [
       "{0: ['0', '00', 'ZERO'], 1: ['one', 'One', 'ONE']}"
      ]
     },
     "execution_count": 14,
     "metadata": {},
     "output_type": "execute_result"
    },
    {
     "data": {
      "text/plain": [
       "{0: ['0', '00', 'ZERO'], 1: ['one', 'One', 'ONE']}"
      ]
     },
     "execution_count": 14,
     "metadata": {},
     "output_type": "execute_result"
    }
   ],
   "source": [
    "x = {0: ['0','00','000'], 1: ['one', 'One', 'ONE']}\n",
    "y = x.copy()\n",
    "x\n",
    "y[0][2] = 'ZERO'\n",
    "y\n",
    "x"
   ]
  },
  {
   "cell_type": "code",
   "execution_count": 15,
   "metadata": {},
   "outputs": [
    {
     "data": {
      "text/plain": [
       "{0: ['0', '00', '000'], 1: ['one', 'One', 'ONE']}"
      ]
     },
     "execution_count": 15,
     "metadata": {},
     "output_type": "execute_result"
    },
    {
     "data": {
      "text/plain": [
       "{0: ['0', '00', 'ZERO'], 1: ['one', 'One', 'ONE']}"
      ]
     },
     "execution_count": 15,
     "metadata": {},
     "output_type": "execute_result"
    },
    {
     "data": {
      "text/plain": [
       "{0: ['0', '00', '000'], 1: ['one', 'One', 'ONE']}"
      ]
     },
     "execution_count": 15,
     "metadata": {},
     "output_type": "execute_result"
    }
   ],
   "source": [
    "import copy\n",
    "x = {0: ['0','00','000'], 1: ['one', 'One', 'ONE']}\n",
    "y = copy.deepcopy(x)\n",
    "x\n",
    "y[0][2] = 'ZERO'\n",
    "y\n",
    "x"
   ]
  },
  {
   "cell_type": "code",
   "execution_count": 16,
   "metadata": {},
   "outputs": [
    {
     "data": {
      "text/plain": [
       "{0: 'zero', 1: 'One', 2: 'Two'}"
      ]
     },
     "execution_count": 16,
     "metadata": {},
     "output_type": "execute_result"
    },
    {
     "data": {
      "text/plain": [
       "{1: 'One', 2: 'Two'}"
      ]
     },
     "execution_count": 16,
     "metadata": {},
     "output_type": "execute_result"
    }
   ],
   "source": [
    "z = {1: 'One', 2: 'Two'}\n",
    "x = {0: 'zero', 1: 'one'}\n",
    "x.update(z)\n",
    "x\n",
    "z"
   ]
  },
  {
   "cell_type": "code",
   "execution_count": 17,
   "metadata": {},
   "outputs": [
    {
     "data": {
      "text/plain": [
       "{'a': 1, 'b': 2, 'c': 3, 'd': 4}"
      ]
     },
     "execution_count": 17,
     "metadata": {},
     "output_type": "execute_result"
    },
    {
     "name": "stdout",
     "output_type": "stream",
     "text": [
      "x should be {'a': 1, 'b': 2, 'c': 3}\n"
     ]
    },
    {
     "data": {
      "text/plain": [
       "{'a': 1, 'b': 2, 'c': 3}"
      ]
     },
     "execution_count": 17,
     "metadata": {},
     "output_type": "execute_result"
    },
    {
     "name": "stdout",
     "output_type": "stream",
     "text": [
      "x should be {'a': 1, 'b': 2, 'c': 3, 'g': 7}\n"
     ]
    },
    {
     "data": {
      "text/plain": [
       "{'a': 1, 'b': 2, 'c': 3, 'g': 7}"
      ]
     },
     "execution_count": 17,
     "metadata": {},
     "output_type": "execute_result"
    },
    {
     "name": "stdout",
     "output_type": "stream",
     "text": [
      "x should be {'a': 6, 'b': 2, 'c': 3, 'g': 7, 'e': 5, 'f': 6}\n"
     ]
    },
    {
     "data": {
      "text/plain": [
       "{'a': 6, 'b': 2, 'c': 3, 'g': 7, 'e': 5, 'f': 6}"
      ]
     },
     "execution_count": 17,
     "metadata": {},
     "output_type": "execute_result"
    }
   ],
   "source": [
    "x = {'a': 1, 'b': 2, 'c': 3, 'd': 4}\n",
    "y = {'a': 6, 'e': 5, 'f': 6}\n",
    "\n",
    "x\n",
    "del x['d']\n",
    "print(\"x should be {'a': 1, 'b': 2, 'c': 3}\")\n",
    "x\n",
    "z = x.setdefault('g', 7)\n",
    "print(\"x should be {'a': 1, 'b': 2, 'c': 3, 'g': 7}\")\n",
    "x\n",
    "x.update(y)\n",
    "print(\"x should be {'a': 6, 'b': 2, 'c': 3, 'g': 7, 'e': 5, 'f': 6}\")\n",
    "x"
   ]
  },
  {
   "cell_type": "markdown",
   "metadata": {},
   "source": [
    "## 7.3 Word counting"
   ]
  },
  {
   "cell_type": "code",
   "execution_count": 18,
   "metadata": {},
   "outputs": [
    {
     "name": "stdout",
     "output_type": "stream",
     "text": [
      "The word To occurs 1 times in the string\n",
      "The word be occurs 2 times in the string\n",
      "The word or occurs 1 times in the string\n",
      "The word not occurs 1 times in the string\n",
      "The word to occurs 1 times in the string\n"
     ]
    }
   ],
   "source": [
    "sample_string = \"To be or  not to be\"\n",
    "occurrences = {}\n",
    "for word in sample_string.split():\n",
    "    occurrences[word] = occurrences.get(word, 0) + 1\n",
    "    \n",
    "for word in occurrences:\n",
    "    print(\"The word\", word, \"occurs\", occurrences[word], \"times in the string\")"
   ]
  },
  {
   "cell_type": "markdown",
   "metadata": {},
   "source": [
    "## 7.4 What can be used as a key?\n",
    "\n",
    "* objects that are immutable and hashable can be keys\n",
    "    * numbers (int, float, complex)\n",
    "    * strings\n",
    "    * bytes\n",
    "    * tuples containing non-mutable elements\n",
    "    * boolean\n",
    "    * frozenset\n",
    "* objects that are mutable and hashable cannot be keys\n",
    "    * variables\n",
    "    * lists\n",
    "    * set\n",
    "    * dictionaries\n",
    "    * tuples containing mutable variables (not hashable)\n",
    "    * bytearray"
   ]
  },
  {
   "cell_type": "code",
   "execution_count": 19,
   "metadata": {},
   "outputs": [],
   "source": [
    "num_dict = {1: \"yes\"}\n",
    "string_dict = {'bob': \"yes\"}\n",
    "string_dict = {\"filename\": \"yes\"}\n",
    "tuple_string_dict = {(\"filename\", \"extension\"): 'yes'}"
   ]
  },
  {
   "cell_type": "code",
   "execution_count": 20,
   "metadata": {},
   "outputs": [
    {
     "ename": "TypeError",
     "evalue": "unhashable type: 'list'",
     "output_type": "error",
     "traceback": [
      "\u001b[0;31m---------------------------------------------------------------------------\u001b[0m",
      "\u001b[0;31mTypeError\u001b[0m                                 Traceback (most recent call last)",
      "\u001b[0;32m<ipython-input-20-e43a3f74fa50>\u001b[0m in \u001b[0;36m<module>\u001b[0;34m\u001b[0m\n\u001b[0;32m----> 1\u001b[0;31m \u001b[0mtuple_list_dict\u001b[0m \u001b[0;34m=\u001b[0m \u001b[0;34m{\u001b[0m\u001b[0;34m(\u001b[0m\u001b[0;34m'tom'\u001b[0m\u001b[0;34m,\u001b[0m \u001b[0;34m[\u001b[0m\u001b[0;36m1\u001b[0m\u001b[0;34m,\u001b[0m \u001b[0;36m2\u001b[0m\u001b[0;34m,\u001b[0m \u001b[0;36m3\u001b[0m\u001b[0;34m]\u001b[0m\u001b[0;34m)\u001b[0m\u001b[0;34m:\u001b[0m \u001b[0;34m\"no\"\u001b[0m\u001b[0;34m}\u001b[0m \u001b[0;31m# list is mutable, can't be key\u001b[0m\u001b[0;34m\u001b[0m\u001b[0;34m\u001b[0m\u001b[0m\n\u001b[0m",
      "\u001b[0;31mTypeError\u001b[0m: unhashable type: 'list'"
     ]
    }
   ],
   "source": [
    "tuple_list_dict = {('tom', [1, 2, 3]): \"no\"} # list is mutable, can't be key"
   ]
  },
  {
   "cell_type": "code",
   "execution_count": 21,
   "metadata": {},
   "outputs": [
    {
     "ename": "TypeError",
     "evalue": "unhashable type: 'list'",
     "output_type": "error",
     "traceback": [
      "\u001b[0;31m---------------------------------------------------------------------------\u001b[0m",
      "\u001b[0;31mTypeError\u001b[0m                                 Traceback (most recent call last)",
      "\u001b[0;32m<ipython-input-21-b7c71a43d73a>\u001b[0m in \u001b[0;36m<module>\u001b[0;34m\u001b[0m\n\u001b[0;32m----> 1\u001b[0;31m \u001b[0mlist_string_dict\u001b[0m \u001b[0;34m=\u001b[0m \u001b[0;34m{\u001b[0m\u001b[0;34m[\u001b[0m\u001b[0;34m\"file-name\"\u001b[0m\u001b[0;34m]\u001b[0m\u001b[0;34m:\u001b[0m \u001b[0;34m\"no\"\u001b[0m\u001b[0;34m}\u001b[0m \u001b[0;31m#fail\u001b[0m\u001b[0;34m\u001b[0m\u001b[0;34m\u001b[0m\u001b[0m\n\u001b[0m",
      "\u001b[0;31mTypeError\u001b[0m: unhashable type: 'list'"
     ]
    }
   ],
   "source": [
    "list_string_dict = {[\"file-name\"]: \"no\"} #fail"
   ]
  },
  {
   "cell_type": "markdown",
   "metadata": {},
   "source": [
    "## 7.5 Sparse matrices\n",
    "* If many zeros, only save matrix elements that are non-zero. Use dictionary"
   ]
  },
  {
   "cell_type": "code",
   "execution_count": 22,
   "metadata": {},
   "outputs": [
    {
     "data": {
      "text/plain": [
       "7"
      ]
     },
     "execution_count": 22,
     "metadata": {},
     "output_type": "execute_result"
    }
   ],
   "source": [
    "matrix = [[3, 0, -2, 11], [0, 9, 0, 0], [0, 7, 0, 0], [0, 0, 0, -5]]\n",
    "rownum = 2\n",
    "colnum = 1\n",
    "matrix[rownum][colnum]"
   ]
  },
  {
   "cell_type": "code",
   "execution_count": 23,
   "metadata": {},
   "outputs": [
    {
     "name": "stdout",
     "output_type": "stream",
     "text": [
      "7\n"
     ]
    }
   ],
   "source": [
    "matrix = {(0, 0): 3, (0, 2): -2, (0, 3): 11,\n",
    "          (1, 1): 9,\n",
    "          (2, 1): 7,\n",
    "          (3, 3): -5}\n",
    "\n",
    "rownum = 2\n",
    "colnum = 1\n",
    "\n",
    "if (rownum, colnum) in matrix:\n",
    "    element = matrix[(rownum, colnum)]\n",
    "else:\n",
    "    element = 0\n",
    "    \n",
    "print(element)"
   ]
  },
  {
   "cell_type": "code",
   "execution_count": 24,
   "metadata": {},
   "outputs": [
    {
     "name": "stdout",
     "output_type": "stream",
     "text": [
      "7\n"
     ]
    }
   ],
   "source": [
    "element = matrix.get((rownum, colnum), 0)\n",
    "print(element)"
   ]
  },
  {
   "cell_type": "markdown",
   "metadata": {},
   "source": [
    "## 7.6 Dictionaries as caches"
   ]
  },
  {
   "cell_type": "code",
   "execution_count": 25,
   "metadata": {},
   "outputs": [],
   "source": [
    "sole_cache = {}\n",
    "def sole(m, n, t):\n",
    "    if (m, n, t) in sole_cache:\n",
    "        return sole_cache(m, n, t)\n",
    "    else:\n",
    "        # some time consuming calculations...\n",
    "        result = m**n**t\n",
    "        sole_cache[(m, n, t)] = result\n",
    "        return result"
   ]
  },
  {
   "cell_type": "code",
   "execution_count": 26,
   "metadata": {},
   "outputs": [
    {
     "name": "stdout",
     "output_type": "stream",
     "text": [
      "0\n",
      "1\n",
      "1\n",
      "1\n",
      "1\n",
      "1\n",
      "0\n",
      "0\n",
      "0\n",
      "0\n",
      "0\n",
      "0\n",
      "0\n",
      "0\n",
      "0\n",
      "0\n",
      "0\n",
      "0\n",
      "1\n",
      "1\n",
      "1\n",
      "1\n",
      "1\n",
      "1\n",
      "1\n",
      "1\n",
      "1\n",
      "1\n",
      "1\n",
      "1\n",
      "1\n",
      "1\n",
      "1\n",
      "1\n",
      "1\n",
      "1\n",
      "2\n",
      "1\n",
      "1\n",
      "1\n",
      "1\n",
      "1\n",
      "2\n",
      "2\n",
      "2\n",
      "2\n",
      "2\n",
      "2\n",
      "2\n",
      "4\n",
      "16\n",
      "256\n",
      "65536\n",
      "4294967296\n",
      "3\n",
      "1\n",
      "1\n",
      "1\n",
      "1\n",
      "1\n",
      "3\n",
      "3\n",
      "3\n",
      "3\n",
      "3\n",
      "3\n",
      "3\n",
      "9\n",
      "81\n",
      "6561\n",
      "43046721\n",
      "1853020188851841\n",
      "4\n",
      "1\n",
      "1\n",
      "1\n",
      "1\n",
      "1\n",
      "4\n",
      "4\n",
      "4\n",
      "4\n",
      "4\n",
      "4\n",
      "4\n",
      "16\n",
      "256\n",
      "65536\n",
      "4294967296\n",
      "18446744073709551616\n",
      "{(0, 0, 0): 0, (0, 0, 1): 1, (0, 0, 2): 1, (0, 0, 3): 1, (0, 0, 4): 1, (0, 0, 5): 1, (0, 1, 0): 0, (0, 1, 1): 0, (0, 1, 2): 0, (0, 1, 3): 0, (0, 1, 4): 0, (0, 1, 5): 0, (0, 2, 0): 0, (0, 2, 1): 0, (0, 2, 2): 0, (0, 2, 3): 0, (0, 2, 4): 0, (0, 2, 5): 0, (1, 0, 0): 1, (1, 0, 1): 1, (1, 0, 2): 1, (1, 0, 3): 1, (1, 0, 4): 1, (1, 0, 5): 1, (1, 1, 0): 1, (1, 1, 1): 1, (1, 1, 2): 1, (1, 1, 3): 1, (1, 1, 4): 1, (1, 1, 5): 1, (1, 2, 0): 1, (1, 2, 1): 1, (1, 2, 2): 1, (1, 2, 3): 1, (1, 2, 4): 1, (1, 2, 5): 1, (2, 0, 0): 2, (2, 0, 1): 1, (2, 0, 2): 1, (2, 0, 3): 1, (2, 0, 4): 1, (2, 0, 5): 1, (2, 1, 0): 2, (2, 1, 1): 2, (2, 1, 2): 2, (2, 1, 3): 2, (2, 1, 4): 2, (2, 1, 5): 2, (2, 2, 0): 2, (2, 2, 1): 4, (2, 2, 2): 16, (2, 2, 3): 256, (2, 2, 4): 65536, (2, 2, 5): 4294967296, (3, 0, 0): 3, (3, 0, 1): 1, (3, 0, 2): 1, (3, 0, 3): 1, (3, 0, 4): 1, (3, 0, 5): 1, (3, 1, 0): 3, (3, 1, 1): 3, (3, 1, 2): 3, (3, 1, 3): 3, (3, 1, 4): 3, (3, 1, 5): 3, (3, 2, 0): 3, (3, 2, 1): 9, (3, 2, 2): 81, (3, 2, 3): 6561, (3, 2, 4): 43046721, (3, 2, 5): 1853020188851841, (4, 0, 0): 4, (4, 0, 1): 1, (4, 0, 2): 1, (4, 0, 3): 1, (4, 0, 4): 1, (4, 0, 5): 1, (4, 1, 0): 4, (4, 1, 1): 4, (4, 1, 2): 4, (4, 1, 3): 4, (4, 1, 4): 4, (4, 1, 5): 4, (4, 2, 0): 4, (4, 2, 1): 16, (4, 2, 2): 256, (4, 2, 3): 65536, (4, 2, 4): 4294967296, (4, 2, 5): 18446744073709551616}\n"
     ]
    }
   ],
   "source": [
    "for m in range(5):\n",
    "    for n in range(3):\n",
    "        for t in range(6):\n",
    "            print(sole(m, n, t))\n",
    "            \n",
    "print(sole_cache)"
   ]
  },
  {
   "cell_type": "code",
   "execution_count": 27,
   "metadata": {},
   "outputs": [],
   "source": [
    "spreadsheet = {}\n",
    "def get_value(rownum, colnum):\n",
    "    return spreadsheet.setdefault((rownum, colnum), None)\n",
    "    \n",
    "def set_value(rownum, colnum, val):\n",
    "    spreadsheet[(rownum, colnum)] = val\n"
   ]
  },
  {
   "cell_type": "code",
   "execution_count": 28,
   "metadata": {},
   "outputs": [],
   "source": [
    "set_value(0, 0, 1)\n",
    "set_value(1, 0, 3)\n",
    "set_value(2, 0, 5)\n",
    "set_value(3, 0, 7)"
   ]
  },
  {
   "cell_type": "code",
   "execution_count": 29,
   "metadata": {},
   "outputs": [
    {
     "name": "stdout",
     "output_type": "stream",
     "text": [
      "{(0, 0): 1, (1, 0): 3, (2, 0): 5, (3, 0): 7}\n"
     ]
    },
    {
     "data": {
      "text/plain": [
       "1"
      ]
     },
     "execution_count": 29,
     "metadata": {},
     "output_type": "execute_result"
    },
    {
     "name": "stdout",
     "output_type": "stream",
     "text": [
      "{(0, 0): 1, (1, 0): 3, (2, 0): 5, (3, 0): 7}\n"
     ]
    }
   ],
   "source": [
    "print(spreadsheet)\n",
    "get_value(0, 0)\n",
    "print(spreadsheet)"
   ]
  },
  {
   "cell_type": "code",
   "execution_count": 30,
   "metadata": {},
   "outputs": [
    {
     "name": "stdout",
     "output_type": "stream",
     "text": [
      "{(0, 0): 1, (1, 0): 3, (2, 0): 5, (3, 0): 7, (0, 1): None}\n"
     ]
    }
   ],
   "source": [
    "get_value(0, 1)\n",
    "print(spreadsheet)\n"
   ]
  },
  {
   "cell_type": "code",
   "execution_count": 31,
   "metadata": {},
   "outputs": [
    {
     "name": "stdout",
     "output_type": "stream",
     "text": [
      "{(0, 0): 1, (1, 0): 3, (2, 0): 5, (3, 0): 7, (0, 1): None, (4, 0): 16}\n"
     ]
    }
   ],
   "source": [
    "set_value(4, 0, get_value(0, 0) + get_value(1, 0) + get_value(2, 0) + get_value(3, 0))\n",
    "print(spreadsheet)"
   ]
  },
  {
   "cell_type": "code",
   "execution_count": 32,
   "metadata": {},
   "outputs": [
    {
     "ename": "TypeError",
     "evalue": "unsupported operand type(s) for +: 'NoneType' and 'NoneType'",
     "output_type": "error",
     "traceback": [
      "\u001b[0;31m---------------------------------------------------------------------------\u001b[0m",
      "\u001b[0;31mTypeError\u001b[0m                                 Traceback (most recent call last)",
      "\u001b[0;32m<ipython-input-32-6db4f9ebfa32>\u001b[0m in \u001b[0;36m<module>\u001b[0;34m\u001b[0m\n\u001b[0;32m----> 1\u001b[0;31m \u001b[0mset_value\u001b[0m\u001b[0;34m(\u001b[0m\u001b[0;36m4\u001b[0m\u001b[0;34m,\u001b[0m \u001b[0;36m0\u001b[0m\u001b[0;34m,\u001b[0m \u001b[0mget_value\u001b[0m\u001b[0;34m(\u001b[0m\u001b[0;36m0\u001b[0m\u001b[0;34m,\u001b[0m \u001b[0;36m1\u001b[0m\u001b[0;34m)\u001b[0m \u001b[0;34m+\u001b[0m \u001b[0mget_value\u001b[0m\u001b[0;34m(\u001b[0m\u001b[0;36m1\u001b[0m\u001b[0;34m,\u001b[0m \u001b[0;36m1\u001b[0m\u001b[0;34m)\u001b[0m \u001b[0;34m+\u001b[0m \u001b[0mget_value\u001b[0m\u001b[0;34m(\u001b[0m\u001b[0;36m2\u001b[0m\u001b[0;34m,\u001b[0m \u001b[0;36m1\u001b[0m\u001b[0;34m)\u001b[0m \u001b[0;34m+\u001b[0m \u001b[0mget_value\u001b[0m\u001b[0;34m(\u001b[0m\u001b[0;36m3\u001b[0m\u001b[0;34m,\u001b[0m \u001b[0;36m1\u001b[0m\u001b[0;34m)\u001b[0m\u001b[0;34m)\u001b[0m \u001b[0;31m# fail, trying to access bad va\u001b[0m\u001b[0;34m\u001b[0m\u001b[0;34m\u001b[0m\u001b[0m\n\u001b[0m\u001b[1;32m      2\u001b[0m \u001b[0mprint\u001b[0m\u001b[0;34m(\u001b[0m\u001b[0mspreadsheet\u001b[0m\u001b[0;34m)\u001b[0m\u001b[0;34m\u001b[0m\u001b[0;34m\u001b[0m\u001b[0m\n",
      "\u001b[0;31mTypeError\u001b[0m: unsupported operand type(s) for +: 'NoneType' and 'NoneType'"
     ]
    }
   ],
   "source": [
    "set_value(4, 0, get_value(0, 1) + get_value(1, 1) + get_value(2, 1) + get_value(3, 1)) # fail, trying to access bad va\n",
    "print(spreadsheet)"
   ]
  },
  {
   "cell_type": "markdown",
   "metadata": {},
   "source": [
    "## Lab 7: Word counting"
   ]
  },
  {
   "cell_type": "code",
   "execution_count": 33,
   "metadata": {},
   "outputs": [
    {
     "name": "stdout",
     "output_type": "stream",
     "text": [
      "Most common words:\n",
      "('the', 14)\n",
      "('i', 9)\n",
      "('and', 9)\n",
      "('of', 8)\n",
      "('is', 7)\n",
      "\n",
      "Least common words:\n",
      "('call', 1)\n",
      "('ishmael', 1)\n",
      "('years', 1)\n",
      "('ago', 1)\n",
      "('never', 1)\n"
     ]
    },
    {
     "data": {
      "text/plain": [
       "{'call': 1,\n",
       " 'me': 5,\n",
       " 'ishmael': 1,\n",
       " 'some': 2,\n",
       " 'years': 1,\n",
       " 'ago': 1,\n",
       " 'never': 1,\n",
       " 'mind': 1,\n",
       " 'how': 1,\n",
       " 'long': 1,\n",
       " 'precisely': 1,\n",
       " 'having': 1,\n",
       " 'little': 2,\n",
       " 'or': 2,\n",
       " 'no': 1,\n",
       " 'money': 1,\n",
       " 'in': 4,\n",
       " 'my': 4,\n",
       " 'purse': 1,\n",
       " 'and': 9,\n",
       " 'nothing': 2,\n",
       " 'particular': 1,\n",
       " 'to': 5,\n",
       " 'interest': 1,\n",
       " 'on': 1,\n",
       " 'shore': 1,\n",
       " 'i': 9,\n",
       " 'thought': 1,\n",
       " 'would': 1,\n",
       " 'sail': 1,\n",
       " 'about': 2,\n",
       " 'a': 6,\n",
       " 'see': 1,\n",
       " 'the': 14,\n",
       " 'watery': 1,\n",
       " 'part': 1,\n",
       " 'of': 8,\n",
       " 'world': 1,\n",
       " 'it': 6,\n",
       " 'is': 7,\n",
       " 'way': 1,\n",
       " 'have': 1,\n",
       " 'driving': 1,\n",
       " 'off': 2,\n",
       " 'spleen': 1,\n",
       " 'regulating': 1,\n",
       " 'circulation': 1,\n",
       " 'whenever': 4,\n",
       " 'find': 2,\n",
       " 'myself': 2,\n",
       " 'growing': 1,\n",
       " 'grim': 1,\n",
       " 'mouth': 1,\n",
       " 'damp': 1,\n",
       " 'drizzly': 1,\n",
       " 'november': 1,\n",
       " 'soul': 1,\n",
       " 'involuntarily': 1,\n",
       " 'pausing': 1,\n",
       " 'before': 1,\n",
       " 'coffin': 1,\n",
       " 'warehouses': 1,\n",
       " 'bringing': 1,\n",
       " 'up': 1,\n",
       " 'rear': 1,\n",
       " 'every': 1,\n",
       " 'funeral': 1,\n",
       " 'meet': 1,\n",
       " 'especially': 1,\n",
       " 'hypos': 1,\n",
       " 'get': 2,\n",
       " 'such': 1,\n",
       " 'an': 1,\n",
       " 'upper': 1,\n",
       " 'hand': 1,\n",
       " 'that': 2,\n",
       " 'requires': 1,\n",
       " 'strong': 1,\n",
       " 'moral': 1,\n",
       " 'principle': 1,\n",
       " 'prevent': 1,\n",
       " 'from': 1,\n",
       " 'deliberately': 1,\n",
       " 'stepping': 1,\n",
       " 'into': 1,\n",
       " 'street': 1,\n",
       " 'methodically': 1,\n",
       " 'knocking': 1,\n",
       " 'people': 1,\n",
       " 's': 1,\n",
       " 'hats': 1,\n",
       " 'then': 1,\n",
       " 'account': 1,\n",
       " 'high': 1,\n",
       " 'time': 2,\n",
       " 'sea': 1,\n",
       " 'as': 3,\n",
       " 'soon': 1,\n",
       " 'can': 1,\n",
       " 'this': 2,\n",
       " 'substitute': 1,\n",
       " 'for': 1,\n",
       " 'pistol': 1,\n",
       " 'ball': 1,\n",
       " 'with': 3,\n",
       " 'philosophical': 1,\n",
       " 'flourish': 1,\n",
       " 'cato': 1,\n",
       " 'throws': 1,\n",
       " 'himself': 1,\n",
       " 'upon': 1,\n",
       " 'his': 1,\n",
       " 'sword': 1,\n",
       " 'quietly': 1,\n",
       " 'take': 2,\n",
       " 'ship': 1,\n",
       " 'there': 3,\n",
       " 'surprising': 1,\n",
       " 'if': 1,\n",
       " 'they': 1,\n",
       " 'but': 1,\n",
       " 'knew': 1,\n",
       " 'almost': 1,\n",
       " 'all': 1,\n",
       " 'men': 1,\n",
       " 'their': 1,\n",
       " 'degree': 1,\n",
       " 'other': 1,\n",
       " 'cherish': 1,\n",
       " 'very': 1,\n",
       " 'nearly': 1,\n",
       " 'same': 1,\n",
       " 'feelings': 1,\n",
       " 'towards': 1,\n",
       " 'ocean': 1,\n",
       " 'now': 1,\n",
       " 'your': 1,\n",
       " 'insular': 1,\n",
       " 'city': 1,\n",
       " 'manhattoes': 1,\n",
       " 'belted': 1,\n",
       " 'round': 1,\n",
       " 'by': 4,\n",
       " 'wharves': 1,\n",
       " 'indian': 1,\n",
       " 'isles': 1,\n",
       " 'coral': 1,\n",
       " 'reefs': 1,\n",
       " 'commerce': 1,\n",
       " 'surrounds': 1,\n",
       " 'her': 1,\n",
       " 'surf': 1,\n",
       " 'right': 1,\n",
       " 'left': 1,\n",
       " 'streets': 1,\n",
       " 'you': 1,\n",
       " 'waterward': 1,\n",
       " 'its': 1,\n",
       " 'extreme': 1,\n",
       " 'downtown': 1,\n",
       " 'battery': 1,\n",
       " 'where': 1,\n",
       " 'noble': 1,\n",
       " 'mole': 1,\n",
       " 'washed': 1,\n",
       " 'waves': 1,\n",
       " 'cooled': 1,\n",
       " 'breezes': 1,\n",
       " 'which': 1,\n",
       " 'few': 1,\n",
       " 'hours': 1,\n",
       " 'previous': 1,\n",
       " 'were': 1,\n",
       " 'out': 1,\n",
       " 'sight': 1,\n",
       " 'land': 1,\n",
       " 'look': 1,\n",
       " 'at': 1,\n",
       " 'crowds': 1,\n",
       " 'water': 1,\n",
       " 'gazers': 1}"
      ]
     },
     "execution_count": 33,
     "metadata": {},
     "output_type": "execute_result"
    }
   ],
   "source": [
    "moby_words = []\n",
    "with open (\"moby_01_clean.txt\") as infile:\n",
    "    for word in infile:\n",
    "        if word.strip():\n",
    "            moby_words.append(word.strip())\n",
    "\n",
    "word_count = {}\n",
    "for word in moby_words:\n",
    "    count = word_count.setdefault(word, 0)\n",
    "    count += 1\n",
    "    word_count[word] += 1\n",
    "\n",
    "word_list = list(word_count.items())\n",
    "word_list.sort(key=lambda x: x[1])\n",
    "\n",
    "print(\"Most common words:\")\n",
    "for word in reversed(word_list[-5:]):\n",
    "    print(word)\n",
    "\n",
    "print(\"\\nLeast common words:\")\n",
    "for word in word_list[:5]:\n",
    "    print(word)\n",
    "word_count"
   ]
  },
  {
   "cell_type": "code",
   "execution_count": null,
   "metadata": {},
   "outputs": [],
   "source": []
  },
  {
   "cell_type": "code",
   "execution_count": null,
   "metadata": {},
   "outputs": [],
   "source": []
  }
 ],
 "metadata": {
  "kernelspec": {
   "display_name": "Python 3",
   "language": "python",
   "name": "python3"
  },
  "language_info": {
   "codemirror_mode": {
    "name": "ipython",
    "version": 3
   },
   "file_extension": ".py",
   "mimetype": "text/x-python",
   "name": "python",
   "nbconvert_exporter": "python",
   "pygments_lexer": "ipython3",
   "version": "3.7.4"
  }
 },
 "nbformat": 4,
 "nbformat_minor": 2
}
