{
 "cells": [
  {
   "cell_type": "markdown",
   "metadata": {},
   "source": [
    "# Ch 9. Functions\n",
    "* Defining functions\n",
    "* Using function parameters\n",
    "* Passing mutable objects as parameters\n",
    "* Understanding local and global variables\n",
    "* Creating and using generator functions\n",
    "* Creating and using lambda expressions\n",
    "* Using decorators"
   ]
  },
  {
   "cell_type": "code",
   "execution_count": 1,
   "metadata": {},
   "outputs": [],
   "source": [
    "from IPython.core.interactiveshell import InteractiveShell\n",
    "InteractiveShell.ast_node_interactivity = \"all\""
   ]
  },
  {
   "cell_type": "markdown",
   "metadata": {},
   "source": [
    "## 9.1 Basic function definitions"
   ]
  },
  {
   "cell_type": "code",
   "execution_count": 2,
   "metadata": {},
   "outputs": [],
   "source": [
    "def fact(n):\n",
    "    \"\"\"Return the factorial of the given number.\"\"\"\n",
    "    r = 1\n",
    "    while n > 0:\n",
    "        r = r * n\n",
    "        n = n - 1\n",
    "    return r"
   ]
  },
  {
   "cell_type": "code",
   "execution_count": 3,
   "metadata": {},
   "outputs": [
    {
     "data": {
      "text/plain": [
       "1"
      ]
     },
     "execution_count": 3,
     "metadata": {},
     "output_type": "execute_result"
    },
    {
     "data": {
      "text/plain": [
       "2"
      ]
     },
     "execution_count": 3,
     "metadata": {},
     "output_type": "execute_result"
    },
    {
     "data": {
      "text/plain": [
       "6"
      ]
     },
     "execution_count": 3,
     "metadata": {},
     "output_type": "execute_result"
    },
    {
     "data": {
      "text/plain": [
       "24"
      ]
     },
     "execution_count": 3,
     "metadata": {},
     "output_type": "execute_result"
    }
   ],
   "source": [
    "fact(1)\n",
    "fact(2)\n",
    "fact(3)\n",
    "fact(4)"
   ]
  },
  {
   "cell_type": "code",
   "execution_count": 4,
   "metadata": {},
   "outputs": [
    {
     "name": "stdout",
     "output_type": "stream",
     "text": [
      "Return the factorial of the given number.\n"
     ]
    }
   ],
   "source": [
    "print(fact.__doc__)"
   ]
  },
  {
   "cell_type": "code",
   "execution_count": 5,
   "metadata": {},
   "outputs": [
    {
     "data": {
      "text/plain": [
       "24"
      ]
     },
     "execution_count": 5,
     "metadata": {},
     "output_type": "execute_result"
    },
    {
     "name": "stdout",
     "output_type": "stream",
     "text": [
      "x is 24\n"
     ]
    }
   ],
   "source": [
    "fact(4)\n",
    "x = fact(4)\n",
    "print(f'x is {x}')"
   ]
  },
  {
   "cell_type": "code",
   "execution_count": 6,
   "metadata": {},
   "outputs": [],
   "source": [
    "def fact1(n):\n",
    "    \"\"\"Return the factorial of the given number.\"\"\"\n",
    "    r = 1\n",
    "    while n > 0:\n",
    "        r = r * n\n",
    "        n = n - 1\n",
    "    # if no return statement: None is returned"
   ]
  },
  {
   "cell_type": "code",
   "execution_count": 7,
   "metadata": {},
   "outputs": [
    {
     "name": "stdout",
     "output_type": "stream",
     "text": [
      "None\n"
     ]
    }
   ],
   "source": [
    "fact1(1)\n",
    "fact1(2)\n",
    "fact1(3)\n",
    "fact1(4)\n",
    "print(fact1(4))"
   ]
  },
  {
   "cell_type": "markdown",
   "metadata": {},
   "source": [
    "## 9.2 Function parameter options"
   ]
  },
  {
   "cell_type": "code",
   "execution_count": 8,
   "metadata": {},
   "outputs": [
    {
     "data": {
      "text/plain": [
       "27"
      ]
     },
     "execution_count": 8,
     "metadata": {},
     "output_type": "execute_result"
    }
   ],
   "source": [
    "def power(x, y):\n",
    "    r = 1\n",
    "    while y > 0:\n",
    "        r *= x\n",
    "        y -= 1\n",
    "    return r\n",
    "\n",
    "power(3,3)"
   ]
  },
  {
   "cell_type": "code",
   "execution_count": 9,
   "metadata": {},
   "outputs": [
    {
     "data": {
      "text/plain": [
       "27"
      ]
     },
     "execution_count": 9,
     "metadata": {},
     "output_type": "execute_result"
    },
    {
     "data": {
      "text/plain": [
       "9"
      ]
     },
     "execution_count": 9,
     "metadata": {},
     "output_type": "execute_result"
    }
   ],
   "source": [
    "def power(x, y=2):\n",
    "    r = 1\n",
    "    while y > 0:\n",
    "        r *= x\n",
    "        y -= 1\n",
    "    return r\n",
    "\n",
    "power(3,3)\n",
    "power(3)"
   ]
  },
  {
   "cell_type": "code",
   "execution_count": 10,
   "metadata": {},
   "outputs": [
    {
     "data": {
      "text/plain": [
       "8"
      ]
     },
     "execution_count": 10,
     "metadata": {},
     "output_type": "execute_result"
    },
    {
     "data": {
      "text/plain": [
       "9"
      ]
     },
     "execution_count": 10,
     "metadata": {},
     "output_type": "execute_result"
    },
    {
     "data": {
      "text/plain": [
       "9"
      ]
     },
     "execution_count": 10,
     "metadata": {},
     "output_type": "execute_result"
    }
   ],
   "source": [
    "power(2, 3)\n",
    "power(3, 2)\n",
    "power(y=2, x=3) #keyword passing"
   ]
  },
  {
   "cell_type": "markdown",
   "metadata": {},
   "source": []
  },
  {
   "cell_type": "markdown",
   "metadata": {},
   "source": [
    "### 9.2.3 Variable numbers of arguments"
   ]
  },
  {
   "cell_type": "markdown",
   "metadata": {},
   "source": [
    "Dealing with an indefinite number of postional arguments"
   ]
  },
  {
   "cell_type": "code",
   "execution_count": 11,
   "metadata": {},
   "outputs": [],
   "source": [
    "def maximum(*numbers): #collect varibles into a tuple\n",
    "    if len(numbers) == 0:\n",
    "        return None\n",
    "    else:\n",
    "        maxnum = numbers[0]\n",
    "        for n in numbers[1:]:\n",
    "            if n > maxnum:\n",
    "                maxnum = n\n",
    "        return maxnum"
   ]
  },
  {
   "cell_type": "code",
   "execution_count": 12,
   "metadata": {},
   "outputs": [
    {
     "data": {
      "text/plain": [
       "8"
      ]
     },
     "execution_count": 12,
     "metadata": {},
     "output_type": "execute_result"
    }
   ],
   "source": [
    "maximum(3, 2, 8)"
   ]
  },
  {
   "cell_type": "code",
   "execution_count": 13,
   "metadata": {},
   "outputs": [],
   "source": [
    "maximum()"
   ]
  },
  {
   "cell_type": "code",
   "execution_count": 14,
   "metadata": {},
   "outputs": [
    {
     "data": {
      "text/plain": [
       "9"
      ]
     },
     "execution_count": 14,
     "metadata": {},
     "output_type": "execute_result"
    }
   ],
   "source": [
    "maximum(1, 5, 9, -2, 2)"
   ]
  },
  {
   "cell_type": "markdown",
   "metadata": {},
   "source": [
    "Dealing with an indefinite number of arguments passed by keyword"
   ]
  },
  {
   "cell_type": "code",
   "execution_count": 15,
   "metadata": {},
   "outputs": [],
   "source": [
    "def example_fun(x, y, **other):\n",
    "    print(f\"x: {x}, y: {y}, keys in 'other': {other.keys()}\")\n",
    "    other_total = 0\n",
    "    for k in other.keys():\n",
    "        other_total += other[k]\n",
    "    print(f\"The total of values in 'other' is {other_total}\")"
   ]
  },
  {
   "cell_type": "code",
   "execution_count": 16,
   "metadata": {},
   "outputs": [
    {
     "name": "stdout",
     "output_type": "stream",
     "text": [
      "x: 1, y: 2, keys in 'other': dict_keys(['a', 'b', 'c'])\n",
      "The total of values in 'other' is 3\n"
     ]
    }
   ],
   "source": [
    "example_fun(1, 2, a=1, b=1, c=1)"
   ]
  },
  {
   "cell_type": "code",
   "execution_count": 17,
   "metadata": {},
   "outputs": [
    {
     "name": "stdout",
     "output_type": "stream",
     "text": [
      "x: 1, y: 2, keys in 'other': dict_keys(['a', 'b', 'c'])\n",
      "The total of values in 'other' is 3\n"
     ]
    }
   ],
   "source": [
    "example_fun(y=2, x=1, a=1, b=1, c=1)"
   ]
  },
  {
   "cell_type": "code",
   "execution_count": 18,
   "metadata": {},
   "outputs": [
    {
     "name": "stdout",
     "output_type": "stream",
     "text": [
      "x: 1, y: 2, keys in 'other': dict_keys(['a', 'b', 'c'])\n",
      "The total of values in 'other' is 3\n"
     ]
    }
   ],
   "source": [
    "example_fun(y=2, a=1, b=1, c=1, x=1)"
   ]
  },
  {
   "cell_type": "markdown",
   "metadata": {},
   "source": [
    "### 9.2.4 Mixing argument-passing techniques\n",
    "1. positional arguments come first\n",
    "2. named arguments next\n",
    "3. indefinate positional arguments with *\n",
    "4. indefinate keyword arguments with **"
   ]
  },
  {
   "cell_type": "code",
   "execution_count": 19,
   "metadata": {},
   "outputs": [],
   "source": [
    "def rev(*a):\n",
    "    a = list(a)\n",
    "    a.reverse()\n",
    "    print(a)"
   ]
  },
  {
   "cell_type": "code",
   "execution_count": 20,
   "metadata": {},
   "outputs": [
    {
     "name": "stdout",
     "output_type": "stream",
     "text": [
      "[3, 2, 1]\n",
      "[3, 2, 1]\n",
      "None\n"
     ]
    }
   ],
   "source": [
    "rev(1,2,3)\n",
    "a = rev(1,2,3)\n",
    "print(a)"
   ]
  },
  {
   "cell_type": "code",
   "execution_count": 21,
   "metadata": {},
   "outputs": [],
   "source": [
    "def void_func():\n",
    "    return None"
   ]
  },
  {
   "cell_type": "code",
   "execution_count": 22,
   "metadata": {},
   "outputs": [
    {
     "name": "stdout",
     "output_type": "stream",
     "text": [
      "None\n"
     ]
    }
   ],
   "source": [
    "void_func()\n",
    "a = void_func()\n",
    "print(a)"
   ]
  },
  {
   "cell_type": "code",
   "execution_count": 23,
   "metadata": {},
   "outputs": [],
   "source": [
    "def void_func():\n",
    "    pass"
   ]
  },
  {
   "cell_type": "code",
   "execution_count": 24,
   "metadata": {},
   "outputs": [],
   "source": [
    "void_func()"
   ]
  },
  {
   "cell_type": "code",
   "execution_count": 25,
   "metadata": {},
   "outputs": [
    {
     "name": "stdout",
     "output_type": "stream",
     "text": [
      "None\n"
     ]
    }
   ],
   "source": [
    "a = void_func()\n",
    "print(a)"
   ]
  },
  {
   "cell_type": "markdown",
   "metadata": {},
   "source": [
    "## 9.3 Mutable objects as arguments"
   ]
  },
  {
   "cell_type": "code",
   "execution_count": 26,
   "metadata": {},
   "outputs": [
    {
     "data": {
      "text/plain": [
       "(5, [1, 2, 3], [4, 5])"
      ]
     },
     "execution_count": 26,
     "metadata": {},
     "output_type": "execute_result"
    }
   ],
   "source": [
    "def f(n, list1, list2):\n",
    "    list1.append(3)\n",
    "    list2 = [4, 5, 6]\n",
    "    n = n+1\n",
    "\n",
    "x = 5\n",
    "y = [1, 2]\n",
    "z = [4, 5]\n",
    "f(x, y, z)\n",
    "x, y, z"
   ]
  },
  {
   "cell_type": "code",
   "execution_count": 27,
   "metadata": {},
   "outputs": [
    {
     "name": "stdout",
     "output_type": "stream",
     "text": [
      "Expect list to be [2, 3, 'a', 'b'], list is [2, 3, 'a', 'b']\n"
     ]
    }
   ],
   "source": [
    "def list_changer(list1):\n",
    "    list1.append('a')\n",
    "    list1.append('b')\n",
    "    del list1[0]\n",
    "    \n",
    "test_list = [1, 2, 3]\n",
    "list_changer(test_list)\n",
    "print(f\"Expect list to be [2, 3, 'a', 'b'], list is {test_list}\")"
   ]
  },
  {
   "cell_type": "code",
   "execution_count": 28,
   "metadata": {},
   "outputs": [
    {
     "name": "stdout",
     "output_type": "stream",
     "text": [
      "Expect list to be [1, 2, 3], list is [1, 2, 3]\n"
     ]
    }
   ],
   "source": [
    "def list_unchanger(list1):\n",
    "    list2 = list1\n",
    "    list1 = []\n",
    "    for i in list2:\n",
    "        list1.append(i)\n",
    "    del list1[0]\n",
    "    \n",
    "test_list = [1, 2, 3]\n",
    "list_unchanger(test_list)\n",
    "print(f\"Expect list to be [1, 2, 3], list is {test_list}\")"
   ]
  },
  {
   "cell_type": "code",
   "execution_count": 29,
   "metadata": {},
   "outputs": [
    {
     "name": "stdout",
     "output_type": "stream",
     "text": [
      "Expect list to be [1, 2, 3], list is [1, 2, 3]\n"
     ]
    }
   ],
   "source": [
    "import copy\n",
    "def list_change_safe(list1):\n",
    "    list2 = copy.deepcopy(list1)\n",
    "    del list2[0]\n",
    "    \n",
    "test_list = [1, 2, 3]\n",
    "list_change_safe(test_list)\n",
    "print(f\"Expect list to be [1, 2, 3], list is {test_list}\")"
   ]
  },
  {
   "cell_type": "markdown",
   "metadata": {},
   "source": [
    "## 9.4 Local, nonlocal, and global variables"
   ]
  },
  {
   "cell_type": "code",
   "execution_count": 30,
   "metadata": {},
   "outputs": [
    {
     "data": {
      "text/plain": [
       "6"
      ]
     },
     "execution_count": 30,
     "metadata": {},
     "output_type": "execute_result"
    },
    {
     "data": {
      "text/plain": [
       "(7, 3)"
      ]
     },
     "execution_count": 30,
     "metadata": {},
     "output_type": "execute_result"
    }
   ],
   "source": [
    "def fact(n):\n",
    "    \"\"\"Return the factorial of the given number.\"\"\"\n",
    "    r = 1\n",
    "    while n > 0:\n",
    "        r = r * n\n",
    "        n = n - 1\n",
    "    return r\n",
    "\n",
    "r = 7\n",
    "n = 3\n",
    "fact(n) # r & n inside are local changes, don't effect outside functions\n",
    "r, n"
   ]
  },
  {
   "cell_type": "code",
   "execution_count": 31,
   "metadata": {},
   "outputs": [
    {
     "data": {
      "text/plain": [
       "(1, 'two')"
      ]
     },
     "execution_count": 31,
     "metadata": {},
     "output_type": "execute_result"
    },
    {
     "data": {
      "text/plain": [
       "(1, 'two')"
      ]
     },
     "execution_count": 31,
     "metadata": {},
     "output_type": "execute_result"
    }
   ],
   "source": [
    "def fun():\n",
    "    global a\n",
    "    a = 1\n",
    "    b = 2\n",
    "\n",
    "#a = \"one\"\n",
    "b = \"two\"\n",
    "\n",
    "fun()\n",
    "a, b\n",
    "\n",
    "def fun():\n",
    "    global a\n",
    "    a = 1\n",
    "    b = 2\n",
    "\n",
    "a = \"one\"\n",
    "\n",
    "fun()\n",
    "a, b"
   ]
  },
  {
   "cell_type": "code",
   "execution_count": 32,
   "metadata": {},
   "outputs": [
    {
     "name": "stdout",
     "output_type": "stream",
     "text": [
      "top level -> g_var: 0, nl_var: 0\n",
      "in test -> g_var: 0, nl_var: 2\n",
      "in inner_test -> g_var: 1, nl_var: 4\n",
      "in test -> g_var: 1, nl_var: 4\n",
      "top level-> g_var: 1, nl_var: 0\n"
     ]
    }
   ],
   "source": [
    "g_var = 0\n",
    "nl_var = 0\n",
    "print(f\"top level -> g_var: {g_var}, nl_var: {nl_var}\")\n",
    "def test():\n",
    "    nl_var = 2\n",
    "    print(f\"in test -> g_var: {g_var}, nl_var: {nl_var}\")\n",
    "    def inner_test():\n",
    "        global g_var\n",
    "        nonlocal nl_var\n",
    "        g_var = 1\n",
    "        nl_var = 4\n",
    "        print(f\"in inner_test -> g_var: {g_var}, nl_var: {nl_var}\")\n",
    "    inner_test()\n",
    "    print(f\"in test -> g_var: {g_var}, nl_var: {nl_var}\")\n",
    "test()\n",
    "print(f\"top level-> g_var: {g_var}, nl_var: {nl_var}\")"
   ]
  },
  {
   "cell_type": "code",
   "execution_count": 33,
   "metadata": {},
   "outputs": [
    {
     "name": "stdout",
     "output_type": "stream",
     "text": [
      "x should be 5: 5\n",
      "x should be 5: 5\n",
      "x should be 2: 2\n"
     ]
    }
   ],
   "source": [
    "def funct_1():\n",
    "    x  = 3\n",
    "def funct_2():\n",
    "    global x\n",
    "    x = 2\n",
    "    \n",
    "x = 5\n",
    "print(f\"x should be 5: {x}\")\n",
    "funct_1()\n",
    "print(f\"x should be 5: {x}\")\n",
    "funct_2()\n",
    "print(f\"x should be 2: {x}\")"
   ]
  },
  {
   "cell_type": "markdown",
   "metadata": {},
   "source": [
    "## 9.5 Assigning functions to variables"
   ]
  },
  {
   "cell_type": "code",
   "execution_count": 34,
   "metadata": {},
   "outputs": [
    {
     "data": {
      "text/plain": [
       "273.15"
      ]
     },
     "execution_count": 34,
     "metadata": {},
     "output_type": "execute_result"
    },
    {
     "data": {
      "text/plain": [
       "273.15"
      ]
     },
     "execution_count": 34,
     "metadata": {},
     "output_type": "execute_result"
    }
   ],
   "source": [
    "def f_to_kelvin(degrees_f):\n",
    "    return 273.15 + (degrees_f - 32) * 5/9\n",
    "def c_to_kelvin(degrees_c):\n",
    "    return 273.15 + degrees_c\n",
    "abs_temperature = f_to_kelvin\n",
    "abs_temperature(32)\n",
    "abs_temperature = c_to_kelvin\n",
    "abs_temperature(0)"
   ]
  },
  {
   "cell_type": "code",
   "execution_count": 35,
   "metadata": {},
   "outputs": [
    {
     "data": {
      "text/plain": [
       "273.15"
      ]
     },
     "execution_count": 35,
     "metadata": {},
     "output_type": "execute_result"
    },
    {
     "data": {
      "text/plain": [
       "273.15"
      ]
     },
     "execution_count": 35,
     "metadata": {},
     "output_type": "execute_result"
    }
   ],
   "source": [
    "t = {'FtoK': f_to_kelvin, 'CtoK': c_to_kelvin}\n",
    "t['FtoK'](32)\n",
    "t['CtoK'](0)"
   ]
  },
  {
   "cell_type": "markdown",
   "metadata": {},
   "source": [
    "## 9.6 Lambda expressions\n",
    "\n",
    "`lambda param1, param2, ...: expression`"
   ]
  },
  {
   "cell_type": "code",
   "execution_count": 36,
   "metadata": {},
   "outputs": [
    {
     "data": {
      "text/plain": [
       "273.15"
      ]
     },
     "execution_count": 36,
     "metadata": {},
     "output_type": "execute_result"
    }
   ],
   "source": [
    "t2 = {'FtoK': lambda deg_f: 273.15 + (deg_f - 32) * 5 / 9,\n",
    "      'CtoK': lambda deg_c: 273.15 + deg_c}\n",
    "t2['FtoK'](32)"
   ]
  },
  {
   "cell_type": "markdown",
   "metadata": {},
   "source": [
    "## 9.7 Generator functions\n",
    "* generator function is used to define your own iterator\n",
    "* local variables are saved from one call to the next, unlike normal funcitons\n",
    "* generator must end at some point"
   ]
  },
  {
   "cell_type": "code",
   "execution_count": 37,
   "metadata": {},
   "outputs": [],
   "source": [
    "def four():\n",
    "    x = 0\n",
    "    while x < 4:\n",
    "        print(f\"in generator, x = {x}\")\n",
    "        yield x\n",
    "        x += 1"
   ]
  },
  {
   "cell_type": "code",
   "execution_count": 38,
   "metadata": {},
   "outputs": [
    {
     "name": "stdout",
     "output_type": "stream",
     "text": [
      "in generator, x = 0\n",
      "i is 0\n",
      "in generator, x = 1\n",
      "i is 1\n",
      "in generator, x = 2\n",
      "i is 2\n",
      "in generator, x = 3\n",
      "i is 3\n"
     ]
    }
   ],
   "source": [
    "for i in four():\n",
    "    print(f\"i is {i}\")"
   ]
  },
  {
   "cell_type": "code",
   "execution_count": 39,
   "metadata": {},
   "outputs": [
    {
     "name": "stdout",
     "output_type": "stream",
     "text": [
      "in gen, y = 6\n",
      "in subgen, i = 0\n",
      "0\n",
      "in subgen, i = 1\n",
      "1\n",
      "in subgen, i = 2\n",
      "2\n",
      "in subgen, i = 3\n",
      "3\n",
      "in subgen, i = 4\n",
      "4\n",
      "in subgen, i = 5\n",
      "5\n"
     ]
    }
   ],
   "source": [
    "def subgen(x):\n",
    "    for i in range(x):\n",
    "        print(f\"in subgen, i = {i}\")\n",
    "        yield i\n",
    "        \n",
    "def gen(y):\n",
    "    print(f\"in gen, y = {y}\")\n",
    "    yield from subgen(y)\n",
    "    \n",
    "for q in gen(6):\n",
    "    print(q)"
   ]
  },
  {
   "cell_type": "code",
   "execution_count": 40,
   "metadata": {},
   "outputs": [
    {
     "name": "stdout",
     "output_type": "stream",
     "text": [
      "in generator, x = 0\n",
      "in generator, x = 1\n",
      "in generator, x = 2\n"
     ]
    },
    {
     "data": {
      "text/plain": [
       "True"
      ]
     },
     "execution_count": 40,
     "metadata": {},
     "output_type": "execute_result"
    }
   ],
   "source": [
    "2 in four()"
   ]
  },
  {
   "cell_type": "code",
   "execution_count": 41,
   "metadata": {},
   "outputs": [
    {
     "name": "stdout",
     "output_type": "stream",
     "text": [
      "in generator, x = 0\n",
      "in generator, x = 1\n",
      "in generator, x = 2\n",
      "in generator, x = 3\n"
     ]
    },
    {
     "data": {
      "text/plain": [
       "False"
      ]
     },
     "execution_count": 41,
     "metadata": {},
     "output_type": "execute_result"
    }
   ],
   "source": [
    "5 in four()"
   ]
  },
  {
   "cell_type": "code",
   "execution_count": 42,
   "metadata": {},
   "outputs": [],
   "source": [
    "def anynum(requested_length):\n",
    "    x = 0\n",
    "    while x < requested_length:\n",
    "        print(f\"in generator, x = {x}\")\n",
    "        yield x\n",
    "        x += 1"
   ]
  },
  {
   "cell_type": "code",
   "execution_count": 43,
   "metadata": {},
   "outputs": [
    {
     "name": "stdout",
     "output_type": "stream",
     "text": [
      "in generator, x = 0\n",
      "in generator, x = 1\n",
      "in generator, x = 2\n",
      "in generator, x = 3\n",
      "in generator, x = 4\n"
     ]
    },
    {
     "data": {
      "text/plain": [
       "[0, 1, 2, 3, 4]"
      ]
     },
     "execution_count": 43,
     "metadata": {},
     "output_type": "execute_result"
    }
   ],
   "source": [
    "list(anynum(5))\n"
   ]
  },
  {
   "cell_type": "code",
   "execution_count": 44,
   "metadata": {},
   "outputs": [],
   "source": [
    "def anynum(requested_length, start_num):\n",
    "    x = start_num\n",
    "    while x < start_num + requested_length:\n",
    "        print(f\"in generator, x = {x}\")\n",
    "        yield x\n",
    "        x += 1"
   ]
  },
  {
   "cell_type": "code",
   "execution_count": 45,
   "metadata": {},
   "outputs": [
    {
     "name": "stdout",
     "output_type": "stream",
     "text": [
      "in generator, x = 10\n",
      "in generator, x = 11\n",
      "in generator, x = 12\n",
      "in generator, x = 13\n",
      "in generator, x = 14\n"
     ]
    },
    {
     "data": {
      "text/plain": [
       "[10, 11, 12, 13, 14]"
      ]
     },
     "execution_count": 45,
     "metadata": {},
     "output_type": "execute_result"
    }
   ],
   "source": [
    "list(anynum(5, 10))"
   ]
  },
  {
   "cell_type": "markdown",
   "metadata": {},
   "source": [
    "## 9.8 Decorators\n",
    "* Uses:\n",
    "    * In Django ensure a user is logged in before executing a command\n",
    "    * In graphics libraries ensure function is registerd in framework"
   ]
  },
  {
   "cell_type": "code",
   "execution_count": 46,
   "metadata": {},
   "outputs": [],
   "source": [
    "def decorate(func):\n",
    "    print(f\"in decorate function, decorating: {func.__name__}\")\n",
    "    def wrapper_func(*args):\n",
    "        print(f\"Executing {func.__name__}\")\n",
    "        return func(*args)\n",
    "    return wrapper_func\n",
    "\n",
    "def myfunction(parameter):\n",
    "    print(parameter)"
   ]
  },
  {
   "cell_type": "code",
   "execution_count": 47,
   "metadata": {},
   "outputs": [
    {
     "name": "stdout",
     "output_type": "stream",
     "text": [
      "in decorate function, decorating: myfunction\n"
     ]
    }
   ],
   "source": [
    "myfunction1 = decorate(myfunction)"
   ]
  },
  {
   "cell_type": "code",
   "execution_count": 48,
   "metadata": {},
   "outputs": [
    {
     "name": "stdout",
     "output_type": "stream",
     "text": [
      "Executing myfunction\n",
      "hello\n"
     ]
    }
   ],
   "source": [
    "myfunction1(\"hello\")"
   ]
  },
  {
   "cell_type": "code",
   "execution_count": 49,
   "metadata": {},
   "outputs": [
    {
     "name": "stdout",
     "output_type": "stream",
     "text": [
      "in decorate function, decorating: myfunction\n"
     ]
    }
   ],
   "source": [
    "def decorate(func):\n",
    "    print(f\"in decorate function, decorating: {func.__name__}\")\n",
    "    def wrapper_func(*args):\n",
    "        print(f\"Executing {func.__name__}\")\n",
    "        return func(*args)\n",
    "    return wrapper_func\n",
    "\n",
    "@decorate\n",
    "def myfunction(parameter):\n",
    "    print(parameter)"
   ]
  },
  {
   "cell_type": "code",
   "execution_count": 50,
   "metadata": {},
   "outputs": [
    {
     "name": "stdout",
     "output_type": "stream",
     "text": [
      "Executing myfunction\n",
      "hello\n"
     ]
    }
   ],
   "source": [
    "myfunction(\"hello\")"
   ]
  },
  {
   "cell_type": "code",
   "execution_count": 51,
   "metadata": {},
   "outputs": [
    {
     "name": "stdout",
     "output_type": "stream",
     "text": [
      "in htmlify function, decorating: echo_this\n"
     ]
    }
   ],
   "source": [
    "def htmlify(func):\n",
    "    print(f\"in htmlify function, decorating: {func.__name__}\")\n",
    "    def wrapper_func(*args):\n",
    "        print(f\"Executing {func.__name__}\")\n",
    "        func_string = func(*args)\n",
    "        html_string = \"<html>\" + func_string + \"<\\\\html>\"\n",
    "        return html_string\n",
    "    \n",
    "    return wrapper_func\n",
    "\n",
    "@htmlify\n",
    "def echo_this(parameter):\n",
    "    return parameter"
   ]
  },
  {
   "cell_type": "code",
   "execution_count": 52,
   "metadata": {},
   "outputs": [
    {
     "name": "stdout",
     "output_type": "stream",
     "text": [
      "Executing echo_this\n"
     ]
    },
    {
     "data": {
      "text/plain": [
       "'<html>hello<\\\\html>'"
      ]
     },
     "execution_count": 52,
     "metadata": {},
     "output_type": "execute_result"
    },
    {
     "name": "stdout",
     "output_type": "stream",
     "text": [
      "Executing echo_this\n",
      "<html>hello<\\html>\n"
     ]
    }
   ],
   "source": [
    "echo_this(\"hello\")\n",
    "print(echo_this(\"hello\"))"
   ]
  },
  {
   "cell_type": "code",
   "execution_count": 53,
   "metadata": {},
   "outputs": [
    {
     "name": "stdout",
     "output_type": "stream",
     "text": [
      "<html>Test</html>\n"
     ]
    },
    {
     "data": {
      "text/plain": [
       "'<html>Test</html>'"
      ]
     },
     "execution_count": 53,
     "metadata": {},
     "output_type": "execute_result"
    }
   ],
   "source": [
    "def decorate(func):\n",
    "    def wrapper_func(*args):\n",
    "        def inner_wrapper(*args):\n",
    "            return_value = func(*args)\n",
    "            return f\"<html>{return_value}</html>\"\n",
    "        return inner_wrapper(*args)\n",
    "    return wrapper_func\n",
    "\n",
    "@decorate\n",
    "def myfunction(parameter):\n",
    "    return parameter\n",
    "\n",
    "print(myfunction(\"Test\"))\n",
    "myfunction(\"Test\")\n"
   ]
  },
  {
   "cell_type": "markdown",
   "metadata": {},
   "source": [
    "## Lab 9\n",
    "Rewrite labs 6/7."
   ]
  },
  {
   "cell_type": "code",
   "execution_count": 54,
   "metadata": {},
   "outputs": [
    {
     "name": "stdout",
     "output_type": "stream",
     "text": [
      "Reading from file: ../../qpbe3e/exercise_answers/moby_01.txt\n",
      "272\n",
      "Output file is: moby_02_clean.txt\n"
     ]
    }
   ],
   "source": [
    "source_file = \"../../qpbe3e/exercise_answers/moby_01.txt\"\n",
    "destination_file = \"moby_02_clean.txt\"\n",
    "\n",
    "def clean_infile(infile):\n",
    "    clean_words = []\n",
    "    \n",
    "    puncts = \"!.,:;-?'\\\"\\n\"\n",
    "    punct_table = str.maketrans(puncts, \" \"*len(puncts))\n",
    "    \n",
    "    for line in infile:\n",
    "        # make all one case\n",
    "        lower_line = line.lower()\n",
    "        \n",
    "        # remove punctuation\n",
    "        clean_line = lower_line.translate(punct_table)\n",
    "        \n",
    "        # split into words\n",
    "        clean_line_of_words = clean_line.split()\n",
    "        \n",
    "        clean_words = clean_words + clean_line_of_words\n",
    "        \n",
    "    return clean_words\n",
    "\n",
    "def list_words_from_txt(txt_source):\n",
    "    \"\"\"Create a list of words from arbitrary text.\"\"\"\n",
    "    print(f\"Reading from file: {txt_source}\")\n",
    "    with open(txt_source) as infile:\n",
    "        word_list = clean_infile(infile)\n",
    "    return word_list\n",
    "\n",
    "def write_words_to_txt(word_list, txt_destination):\n",
    "    print(f\"Output file is: {txt_destination}\")\n",
    "    with open(txt_destination, \"w\") as outfile:\n",
    "        words = (\"\\n\").join(word_list)\n",
    "        outfile.write(words)\n",
    "        outfile.write(\"\\n\")\n",
    "\n",
    "list_of_words = list_words_from_txt(source_file)\n",
    "print(len(list_of_words))\n",
    "write_words_to_txt(list_of_words, destination_file)"
   ]
  },
  {
   "cell_type": "code",
   "execution_count": 55,
   "metadata": {},
   "outputs": [
    {
     "name": "stdout",
     "output_type": "stream",
     "text": [
      "Reading from file: moby_01_clean.txt\n",
      "Most common words:\n",
      "('the', 14)\n",
      "('i', 9)\n",
      "('and', 9)\n",
      "('of', 8)\n",
      "('is', 7)\n",
      "\n",
      "Least common words:\n",
      "('call', 1)\n",
      "('ishmael', 1)\n",
      "('years', 1)\n",
      "('ago', 1)\n",
      "('never', 1)\n"
     ]
    }
   ],
   "source": [
    "source_file = \"moby_01_clean.txt\"\n",
    "\n",
    "  \n",
    "def count_each_word(word_list):\n",
    "    word_count_dict = {}\n",
    "    for word in word_list:\n",
    "        count = word_count_dict.setdefault(word, 0)\n",
    "        count += 1\n",
    "        word_count_dict[word] += 1\n",
    "    return word_count_dict\n",
    "\n",
    "def sort_word_count_dict(word_count_dict):\n",
    "    word_list = list(word_count_dict.items())\n",
    "    word_list.sort(key=lambda x: x[1])\n",
    "    return word_list\n",
    "\n",
    "\n",
    "def print_common_words(word_count_dict):\n",
    "    word_list = sort_word_count_dict(word_count_dict)\n",
    "    for word in reversed(word_list[-5:]):\n",
    "        print(f\"{word}\")\n",
    "    \n",
    "def print_uncommon_words(word_count_dict):\n",
    "    word_list = sort_word_count_dict(word_count_dict)\n",
    "    for word in (word_list[:5]):\n",
    "        print(f\"{word}\")\n",
    "\n",
    "word_list = list_words_from_txt(source_file)\n",
    "word_count_dict = count_each_word(word_list)\n",
    "\n",
    "print(\"Most common words:\")\n",
    "print_common_words(word_count_dict)\n",
    "\n",
    "print(\"\\nLeast common words:\")\n",
    "print_uncommon_words(word_count_dict)"
   ]
  },
  {
   "cell_type": "code",
   "execution_count": null,
   "metadata": {},
   "outputs": [],
   "source": []
  }
 ],
 "metadata": {
  "kernelspec": {
   "display_name": "Python 3",
   "language": "python",
   "name": "python3"
  },
  "language_info": {
   "codemirror_mode": {
    "name": "ipython",
    "version": 3
   },
   "file_extension": ".py",
   "mimetype": "text/x-python",
   "name": "python",
   "nbconvert_exporter": "python",
   "pygments_lexer": "ipython3",
   "version": "3.7.4"
  }
 },
 "nbformat": 4,
 "nbformat_minor": 2
}
