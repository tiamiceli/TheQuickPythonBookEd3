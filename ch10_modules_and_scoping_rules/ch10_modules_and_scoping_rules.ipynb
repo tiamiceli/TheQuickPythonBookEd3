{
 "cells": [
  {
   "cell_type": "markdown",
   "metadata": {},
   "source": [
    "# Ch 10. Modules and scoping rules\n",
    "* Defining a module\n",
    "* Writing a first module\n",
    "* Using the `import` statement\n",
    "* Modifying the module search path\n",
    "* Making names private in modules\n",
    "* Importing standard library and thrid-party modules\n",
    "* Understanding Python scoping rules and namespaces"
   ]
  },
  {
   "cell_type": "code",
   "execution_count": 1,
   "metadata": {},
   "outputs": [],
   "source": [
    "from IPython.core.interactiveshell import InteractiveShell\n",
    "InteractiveShell.ast_node_interactivity = \"all\""
   ]
  },
  {
   "cell_type": "markdown",
   "metadata": {},
   "source": [
    "## 10.1 What is a module?\n",
    "* allows namespacing of functions "
   ]
  },
  {
   "cell_type": "markdown",
   "metadata": {},
   "source": [
    "## 10.2 A first module"
   ]
  },
  {
   "cell_type": "code",
   "execution_count": 2,
   "metadata": {},
   "outputs": [
    {
     "ename": "NameError",
     "evalue": "name 'pi' is not defined",
     "output_type": "error",
     "traceback": [
      "\u001b[0;31m---------------------------------------------------------------------------\u001b[0m",
      "\u001b[0;31mNameError\u001b[0m                                 Traceback (most recent call last)",
      "\u001b[0;32m<ipython-input-2-de2aab26e39c>\u001b[0m in \u001b[0;36m<module>\u001b[0;34m\u001b[0m\n\u001b[0;32m----> 1\u001b[0;31m \u001b[0mpi\u001b[0m \u001b[0;31m# fail, doesn't know yet\u001b[0m\u001b[0;34m\u001b[0m\u001b[0;34m\u001b[0m\u001b[0m\n\u001b[0m",
      "\u001b[0;31mNameError\u001b[0m: name 'pi' is not defined"
     ]
    }
   ],
   "source": [
    "pi # fail, doesn't know yet"
   ]
  },
  {
   "cell_type": "code",
   "execution_count": 3,
   "metadata": {},
   "outputs": [
    {
     "ename": "NameError",
     "evalue": "name 'area' is not defined",
     "output_type": "error",
     "traceback": [
      "\u001b[0;31m---------------------------------------------------------------------------\u001b[0m",
      "\u001b[0;31mNameError\u001b[0m                                 Traceback (most recent call last)",
      "\u001b[0;32m<ipython-input-3-5eb4a71b6ee2>\u001b[0m in \u001b[0;36m<module>\u001b[0;34m\u001b[0m\n\u001b[0;32m----> 1\u001b[0;31m \u001b[0marea\u001b[0m\u001b[0;34m(\u001b[0m\u001b[0;36m2\u001b[0m\u001b[0;34m)\u001b[0m \u001b[0;31m# fail, doesn't know yet\u001b[0m\u001b[0;34m\u001b[0m\u001b[0;34m\u001b[0m\u001b[0m\n\u001b[0m",
      "\u001b[0;31mNameError\u001b[0m: name 'area' is not defined"
     ]
    }
   ],
   "source": [
    "area(2) # fail, doesn't know yet"
   ]
  },
  {
   "cell_type": "code",
   "execution_count": 4,
   "metadata": {},
   "outputs": [],
   "source": [
    "import mymath"
   ]
  },
  {
   "cell_type": "code",
   "execution_count": 5,
   "metadata": {},
   "outputs": [
    {
     "ename": "NameError",
     "evalue": "name 'pi' is not defined",
     "output_type": "error",
     "traceback": [
      "\u001b[0;31m---------------------------------------------------------------------------\u001b[0m",
      "\u001b[0;31mNameError\u001b[0m                                 Traceback (most recent call last)",
      "\u001b[0;32m<ipython-input-5-498f53a14886>\u001b[0m in \u001b[0;36m<module>\u001b[0;34m\u001b[0m\n\u001b[0;32m----> 1\u001b[0;31m \u001b[0mpi\u001b[0m \u001b[0;31m# fail, not right scope\u001b[0m\u001b[0;34m\u001b[0m\u001b[0;34m\u001b[0m\u001b[0m\n\u001b[0m",
      "\u001b[0;31mNameError\u001b[0m: name 'pi' is not defined"
     ]
    }
   ],
   "source": [
    "pi # fail, not right scope"
   ]
  },
  {
   "cell_type": "code",
   "execution_count": 6,
   "metadata": {},
   "outputs": [
    {
     "data": {
      "text/plain": [
       "3.14159"
      ]
     },
     "execution_count": 6,
     "metadata": {},
     "output_type": "execute_result"
    }
   ],
   "source": [
    "mymath.pi"
   ]
  },
  {
   "cell_type": "code",
   "execution_count": 7,
   "metadata": {},
   "outputs": [
    {
     "data": {
      "text/plain": [
       "'mymath - our example math module'"
      ]
     },
     "execution_count": 7,
     "metadata": {},
     "output_type": "execute_result"
    }
   ],
   "source": [
    "mymath.__doc__"
   ]
  },
  {
   "cell_type": "code",
   "execution_count": 8,
   "metadata": {},
   "outputs": [
    {
     "data": {
      "text/plain": [
       "'area(r): return the area of a circle with radius r.'"
      ]
     },
     "execution_count": 8,
     "metadata": {},
     "output_type": "execute_result"
    }
   ],
   "source": [
    "mymath.area.__doc__"
   ]
  },
  {
   "cell_type": "code",
   "execution_count": 9,
   "metadata": {},
   "outputs": [
    {
     "data": {
      "text/plain": [
       "3.14159"
      ]
     },
     "execution_count": 9,
     "metadata": {},
     "output_type": "execute_result"
    },
    {
     "ename": "NameError",
     "evalue": "name 'area' is not defined",
     "output_type": "error",
     "traceback": [
      "\u001b[0;31m---------------------------------------------------------------------------\u001b[0m",
      "\u001b[0;31mNameError\u001b[0m                                 Traceback (most recent call last)",
      "\u001b[0;32m<ipython-input-9-3f9cf6d90d33>\u001b[0m in \u001b[0;36m<module>\u001b[0;34m\u001b[0m\n\u001b[1;32m      1\u001b[0m \u001b[0;32mfrom\u001b[0m \u001b[0mmymath\u001b[0m \u001b[0;32mimport\u001b[0m \u001b[0mpi\u001b[0m\u001b[0;34m\u001b[0m\u001b[0;34m\u001b[0m\u001b[0m\n\u001b[1;32m      2\u001b[0m \u001b[0mpi\u001b[0m \u001b[0;31m#works\u001b[0m\u001b[0;34m\u001b[0m\u001b[0;34m\u001b[0m\u001b[0m\n\u001b[0;32m----> 3\u001b[0;31m \u001b[0marea\u001b[0m\u001b[0;34m(\u001b[0m\u001b[0;36m2\u001b[0m\u001b[0;34m)\u001b[0m \u001b[0;31m#fail, not in scope\u001b[0m\u001b[0;34m\u001b[0m\u001b[0;34m\u001b[0m\u001b[0m\n\u001b[0m",
      "\u001b[0;31mNameError\u001b[0m: name 'area' is not defined"
     ]
    }
   ],
   "source": [
    "from mymath import pi\n",
    "pi #works\n",
    "area(2) #fail, not in scope"
   ]
  },
  {
   "cell_type": "code",
   "execution_count": 10,
   "metadata": {},
   "outputs": [
    {
     "data": {
      "text/plain": [
       "<module 'mymath' from '/Users/miceli/GitHub/TheQuickPythonBookEd3/ch10_modules_and_scoping_rules/mymath.py'>"
      ]
     },
     "execution_count": 10,
     "metadata": {},
     "output_type": "execute_result"
    }
   ],
   "source": [
    "import importlib\n",
    "importlib.reload(mymath)"
   ]
  },
  {
   "cell_type": "markdown",
   "metadata": {},
   "source": [
    "## 10.3 The import statement\n",
    "* `import modulename`\n",
    " * searches for `modulename`\n",
    " * parses\n",
    " * use functions by `modulename.myfunction`\n",
    "* `from modulename import name1, name2, name3, ...`\n",
    " * use functions by `name1`, etc. no need to prepend module\n",
    "* `from modulename import *` does one of two things\n",
    " 1. imports all public functions (not beginning with underscore) of `modulename` for local use\n",
    " 1. imports functions named in `__all__` list in the module, or in `__init__.py`"
   ]
  },
  {
   "cell_type": "markdown",
   "metadata": {},
   "source": [
    "## 10.4 The module search path"
   ]
  },
  {
   "cell_type": "markdown",
   "metadata": {},
   "source": [
    "This is where python looks for modules. Access from terminal's `PYTHONPATH` environment variable."
   ]
  },
  {
   "cell_type": "code",
   "execution_count": 11,
   "metadata": {},
   "outputs": [
    {
     "data": {
      "text/plain": [
       "['/Users/miceli/GitHub/TheQuickPythonBookEd3/ch10_modules_and_scoping_rules',\n",
       " '/Applications/root-v5-34-00-patches/lib',\n",
       " '/opt/anaconda3/lib/python37.zip',\n",
       " '/opt/anaconda3/lib/python3.7',\n",
       " '/opt/anaconda3/lib/python3.7/lib-dynload',\n",
       " '',\n",
       " '/opt/anaconda3/lib/python3.7/site-packages',\n",
       " '/opt/anaconda3/lib/python3.7/site-packages/aeosa',\n",
       " '/opt/anaconda3/lib/python3.7/site-packages/IPython/extensions',\n",
       " '/Users/miceli/.ipython']"
      ]
     },
     "execution_count": 11,
     "metadata": {},
     "output_type": "execute_result"
    }
   ],
   "source": [
    "import sys\n",
    "sys.path"
   ]
  },
  {
   "cell_type": "markdown",
   "metadata": {},
   "source": [
    "### 10.4.1 Where to place your own modules\n",
    "1. in a directory normally searched by python (ex. a local code directory added to PYTHONPATH)\n",
    "1. keep modules used by a program in the same location\n",
    "1. change PYTHONPATH by sys.path in code, or by environment variable, or add a .pth? file"
   ]
  },
  {
   "cell_type": "markdown",
   "metadata": {},
   "source": [
    "## 10.5 Private names in modules"
   ]
  },
  {
   "cell_type": "code",
   "execution_count": 12,
   "metadata": {},
   "outputs": [],
   "source": [
    "from modtest import *"
   ]
  },
  {
   "cell_type": "code",
   "execution_count": 13,
   "metadata": {},
   "outputs": [
    {
     "data": {
      "text/plain": [
       "3"
      ]
     },
     "execution_count": 13,
     "metadata": {},
     "output_type": "execute_result"
    }
   ],
   "source": [
    "f(3)"
   ]
  },
  {
   "cell_type": "code",
   "execution_count": 14,
   "metadata": {},
   "outputs": [
    {
     "ename": "NameError",
     "evalue": "name '_g' is not defined",
     "output_type": "error",
     "traceback": [
      "\u001b[0;31m---------------------------------------------------------------------------\u001b[0m",
      "\u001b[0;31mNameError\u001b[0m                                 Traceback (most recent call last)",
      "\u001b[0;32m<ipython-input-14-4235a71c74f3>\u001b[0m in \u001b[0;36m<module>\u001b[0;34m\u001b[0m\n\u001b[0;32m----> 1\u001b[0;31m \u001b[0m_g\u001b[0m\u001b[0;34m(\u001b[0m\u001b[0;36m3\u001b[0m\u001b[0;34m)\u001b[0m \u001b[0;31m# should fail, not part of import\u001b[0m\u001b[0;34m\u001b[0m\u001b[0;34m\u001b[0m\u001b[0m\n\u001b[0m",
      "\u001b[0;31mNameError\u001b[0m: name '_g' is not defined"
     ]
    }
   ],
   "source": [
    "_g(3) # should fail, not part of import"
   ]
  },
  {
   "cell_type": "code",
   "execution_count": 15,
   "metadata": {},
   "outputs": [
    {
     "data": {
      "text/plain": [
       "4"
      ]
     },
     "execution_count": 15,
     "metadata": {},
     "output_type": "execute_result"
    }
   ],
   "source": [
    "a"
   ]
  },
  {
   "cell_type": "code",
   "execution_count": 16,
   "metadata": {},
   "outputs": [
    {
     "ename": "NameError",
     "evalue": "name '_b' is not defined",
     "output_type": "error",
     "traceback": [
      "\u001b[0;31m---------------------------------------------------------------------------\u001b[0m",
      "\u001b[0;31mNameError\u001b[0m                                 Traceback (most recent call last)",
      "\u001b[0;32m<ipython-input-16-bf9b9a2f57ba>\u001b[0m in \u001b[0;36m<module>\u001b[0;34m\u001b[0m\n\u001b[0;32m----> 1\u001b[0;31m \u001b[0m_b\u001b[0m \u001b[0;31m# should fail, not part of import\u001b[0m\u001b[0;34m\u001b[0m\u001b[0;34m\u001b[0m\u001b[0m\n\u001b[0m",
      "\u001b[0;31mNameError\u001b[0m: name '_b' is not defined"
     ]
    }
   ],
   "source": [
    "_b # should fail, not part of import"
   ]
  },
  {
   "cell_type": "code",
   "execution_count": 17,
   "metadata": {},
   "outputs": [
    {
     "data": {
      "text/plain": [
       "2"
      ]
     },
     "execution_count": 17,
     "metadata": {},
     "output_type": "execute_result"
    }
   ],
   "source": [
    "import modtest\n",
    "modtest._b"
   ]
  },
  {
   "cell_type": "code",
   "execution_count": 18,
   "metadata": {},
   "outputs": [
    {
     "data": {
      "text/plain": [
       "5"
      ]
     },
     "execution_count": 18,
     "metadata": {},
     "output_type": "execute_result"
    }
   ],
   "source": [
    "from modtest import _g\n",
    "_g(5)"
   ]
  },
  {
   "cell_type": "markdown",
   "metadata": {},
   "source": [
    "## 10.6 Library and third-party modules"
   ]
  },
  {
   "cell_type": "markdown",
   "metadata": {},
   "source": [
    "### Quick check: Modules\n",
    "What are ways to use a function `new_divide` from a module `new_math`?\n",
    "1. `import new_math`\n",
    " * use: new_math.new_divide()\n",
    " * pro: clear namespace provenence\n",
    " * con: lots of typing in code\n",
    "1. `from new_math import new_divide`\n",
    " * use: `new_divide()`\n",
    " * pro: less typing\n",
    " * con: unclear provenence, tiresome if new_math has many functions I want to import\n",
    "1. `from new_math import *`\n",
    " * use: `new_divide()`\n",
    " * pro: less typing, can use all functions in module\n",
    " * con: may overwrite a function if it has a name already used in code\n",
    " \n",
    "If `_helper_math()` was also defined, it would be used accessed in these cases as:\n",
    "1. `new_math._helper_math()`\n",
    "1. `_helper_math()`\n",
    "1. it would not be available for use"
   ]
  },
  {
   "cell_type": "markdown",
   "metadata": {},
   "source": [
    "## 10.7 Python scoping rules and namespaces"
   ]
  },
  {
   "cell_type": "code",
   "execution_count": 19,
   "metadata": {},
   "outputs": [
    {
     "data": {
      "text/plain": [
       "{'__name__': '__main__',\n",
       " '__doc__': 'Automatically created module for IPython interactive environment',\n",
       " '__package__': None,\n",
       " '__loader__': None,\n",
       " '__spec__': None,\n",
       " '__builtin__': <module 'builtins' (built-in)>,\n",
       " '__builtins__': <module 'builtins' (built-in)>,\n",
       " '_ih': ['',\n",
       "  'from IPython.core.interactiveshell import InteractiveShell\\nInteractiveShell.ast_node_interactivity = \"all\"',\n",
       "  \"pi # fail, doesn't know yet\",\n",
       "  \"area(2) # fail, doesn't know yet\",\n",
       "  'import mymath',\n",
       "  'pi # fail, not right scope',\n",
       "  'mymath.pi',\n",
       "  'mymath.__doc__',\n",
       "  'mymath.area.__doc__',\n",
       "  'from mymath import pi\\npi #works\\narea(2) #fail, not in scope',\n",
       "  'import importlib\\nimportlib.reload(mymath)',\n",
       "  'import sys\\nsys.path',\n",
       "  'from modtest import *',\n",
       "  'f(3)',\n",
       "  '_g(3) # should fail, not part of import',\n",
       "  'a',\n",
       "  '_b # should fail, not part of import',\n",
       "  'import modtest\\nmodtest._b',\n",
       "  'from modtest import _g\\n_g(5)',\n",
       "  'locals()'],\n",
       " '_oh': {6: 3.14159,\n",
       "  7: 'mymath - our example math module',\n",
       "  8: 'area(r): return the area of a circle with radius r.',\n",
       "  9: 3.14159,\n",
       "  10: <module 'mymath' from '/Users/miceli/GitHub/TheQuickPythonBookEd3/ch10_modules_and_scoping_rules/mymath.py'>,\n",
       "  11: ['/Users/miceli/GitHub/TheQuickPythonBookEd3/ch10_modules_and_scoping_rules',\n",
       "   '/Applications/root-v5-34-00-patches/lib',\n",
       "   '/opt/anaconda3/lib/python37.zip',\n",
       "   '/opt/anaconda3/lib/python3.7',\n",
       "   '/opt/anaconda3/lib/python3.7/lib-dynload',\n",
       "   '',\n",
       "   '/opt/anaconda3/lib/python3.7/site-packages',\n",
       "   '/opt/anaconda3/lib/python3.7/site-packages/aeosa',\n",
       "   '/opt/anaconda3/lib/python3.7/site-packages/IPython/extensions',\n",
       "   '/Users/miceli/.ipython'],\n",
       "  13: 3,\n",
       "  15: 4,\n",
       "  17: 2,\n",
       "  18: 5},\n",
       " '_dh': ['/Users/miceli/GitHub/TheQuickPythonBookEd3/ch10_modules_and_scoping_rules'],\n",
       " 'In': ['',\n",
       "  'from IPython.core.interactiveshell import InteractiveShell\\nInteractiveShell.ast_node_interactivity = \"all\"',\n",
       "  \"pi # fail, doesn't know yet\",\n",
       "  \"area(2) # fail, doesn't know yet\",\n",
       "  'import mymath',\n",
       "  'pi # fail, not right scope',\n",
       "  'mymath.pi',\n",
       "  'mymath.__doc__',\n",
       "  'mymath.area.__doc__',\n",
       "  'from mymath import pi\\npi #works\\narea(2) #fail, not in scope',\n",
       "  'import importlib\\nimportlib.reload(mymath)',\n",
       "  'import sys\\nsys.path',\n",
       "  'from modtest import *',\n",
       "  'f(3)',\n",
       "  '_g(3) # should fail, not part of import',\n",
       "  'a',\n",
       "  '_b # should fail, not part of import',\n",
       "  'import modtest\\nmodtest._b',\n",
       "  'from modtest import _g\\n_g(5)',\n",
       "  'locals()'],\n",
       " 'Out': {6: 3.14159,\n",
       "  7: 'mymath - our example math module',\n",
       "  8: 'area(r): return the area of a circle with radius r.',\n",
       "  9: 3.14159,\n",
       "  10: <module 'mymath' from '/Users/miceli/GitHub/TheQuickPythonBookEd3/ch10_modules_and_scoping_rules/mymath.py'>,\n",
       "  11: ['/Users/miceli/GitHub/TheQuickPythonBookEd3/ch10_modules_and_scoping_rules',\n",
       "   '/Applications/root-v5-34-00-patches/lib',\n",
       "   '/opt/anaconda3/lib/python37.zip',\n",
       "   '/opt/anaconda3/lib/python3.7',\n",
       "   '/opt/anaconda3/lib/python3.7/lib-dynload',\n",
       "   '',\n",
       "   '/opt/anaconda3/lib/python3.7/site-packages',\n",
       "   '/opt/anaconda3/lib/python3.7/site-packages/aeosa',\n",
       "   '/opt/anaconda3/lib/python3.7/site-packages/IPython/extensions',\n",
       "   '/Users/miceli/.ipython'],\n",
       "  13: 3,\n",
       "  15: 4,\n",
       "  17: 2,\n",
       "  18: 5},\n",
       " 'get_ipython': <bound method InteractiveShell.get_ipython of <ipykernel.zmqshell.ZMQInteractiveShell object at 0x10d3baa90>>,\n",
       " 'exit': <IPython.core.autocall.ZMQExitAutocall at 0x10e0344d0>,\n",
       " 'quit': <IPython.core.autocall.ZMQExitAutocall at 0x10e0344d0>,\n",
       " '_': 5,\n",
       " '__': 2,\n",
       " '___': 4,\n",
       " '_i': 'from modtest import _g\\n_g(5)',\n",
       " '_ii': 'import modtest\\nmodtest._b',\n",
       " '_iii': '_b # should fail, not part of import',\n",
       " '_i1': 'from IPython.core.interactiveshell import InteractiveShell\\nInteractiveShell.ast_node_interactivity = \"all\"',\n",
       " 'InteractiveShell': IPython.core.interactiveshell.InteractiveShell,\n",
       " '_i2': \"pi # fail, doesn't know yet\",\n",
       " '_i3': \"area(2) # fail, doesn't know yet\",\n",
       " '_i4': 'import mymath',\n",
       " 'mymath': <module 'mymath' from '/Users/miceli/GitHub/TheQuickPythonBookEd3/ch10_modules_and_scoping_rules/mymath.py'>,\n",
       " '_i5': 'pi # fail, not right scope',\n",
       " '_i6': 'mymath.pi',\n",
       " '_6': 3.14159,\n",
       " '_i7': 'mymath.__doc__',\n",
       " '_7': 'mymath - our example math module',\n",
       " '_i8': 'mymath.area.__doc__',\n",
       " '_8': 'area(r): return the area of a circle with radius r.',\n",
       " '_i9': 'from mymath import pi\\npi #works\\narea(2) #fail, not in scope',\n",
       " 'pi': 3.14159,\n",
       " '_9': 3.14159,\n",
       " '_i10': 'import importlib\\nimportlib.reload(mymath)',\n",
       " 'importlib': <module 'importlib' from '/opt/anaconda3/lib/python3.7/importlib/__init__.py'>,\n",
       " '_10': <module 'mymath' from '/Users/miceli/GitHub/TheQuickPythonBookEd3/ch10_modules_and_scoping_rules/mymath.py'>,\n",
       " '_i11': 'import sys\\nsys.path',\n",
       " 'sys': <module 'sys' (built-in)>,\n",
       " '_11': ['/Users/miceli/GitHub/TheQuickPythonBookEd3/ch10_modules_and_scoping_rules',\n",
       "  '/Applications/root-v5-34-00-patches/lib',\n",
       "  '/opt/anaconda3/lib/python37.zip',\n",
       "  '/opt/anaconda3/lib/python3.7',\n",
       "  '/opt/anaconda3/lib/python3.7/lib-dynload',\n",
       "  '',\n",
       "  '/opt/anaconda3/lib/python3.7/site-packages',\n",
       "  '/opt/anaconda3/lib/python3.7/site-packages/aeosa',\n",
       "  '/opt/anaconda3/lib/python3.7/site-packages/IPython/extensions',\n",
       "  '/Users/miceli/.ipython'],\n",
       " '_i12': 'from modtest import *',\n",
       " 'f': <function modtest.f(x)>,\n",
       " 'a': 4,\n",
       " '_i13': 'f(3)',\n",
       " '_13': 3,\n",
       " '_i14': '_g(3) # should fail, not part of import',\n",
       " '_i15': 'a',\n",
       " '_15': 4,\n",
       " '_i16': '_b # should fail, not part of import',\n",
       " '_i17': 'import modtest\\nmodtest._b',\n",
       " 'modtest': <module 'modtest' from '/Users/miceli/GitHub/TheQuickPythonBookEd3/ch10_modules_and_scoping_rules/modtest.py'>,\n",
       " '_17': 2,\n",
       " '_i18': 'from modtest import _g\\n_g(5)',\n",
       " '_g': <function modtest._g(x)>,\n",
       " '_18': 5,\n",
       " '_i19': 'locals()'}"
      ]
     },
     "execution_count": 19,
     "metadata": {},
     "output_type": "execute_result"
    }
   ],
   "source": [
    "locals()"
   ]
  },
  {
   "cell_type": "markdown",
   "metadata": {},
   "source": [
    "Interactive tests"
   ]
  },
  {
   "cell_type": "code",
   "execution_count": 20,
   "metadata": {},
   "outputs": [
    {
     "data": {
      "text/plain": [
       "<module 'wordtools' from '/Users/miceli/GitHub/TheQuickPythonBookEd3/ch10_modules_and_scoping_rules/wordtools.py'>"
      ]
     },
     "execution_count": 20,
     "metadata": {},
     "output_type": "execute_result"
    }
   ],
   "source": [
    "import wordtools\n",
    "import importlib\n",
    "importlib.reload(wordtools)"
   ]
  },
  {
   "cell_type": "code",
   "execution_count": 21,
   "metadata": {
    "scrolled": true
   },
   "outputs": [
    {
     "name": "stdout",
     "output_type": "stream",
     "text": [
      "Reading from file: ../../qpbe3e/exercise_answers/moby_01.txt\n",
      "('the', 14)\n",
      "('i', 9)\n",
      "('and', 9)\n",
      "('of', 8)\n",
      "('is', 7)\n",
      "('call', 1)\n",
      "('ishmael', 1)\n",
      "('years', 1)\n",
      "('ago', 1)\n",
      "('never', 1)\n"
     ]
    }
   ],
   "source": [
    "word_list = wordtools.list_words_from_txt(\"../../qpbe3e/exercise_answers/moby_01.txt\")\n",
    "word_dict = wordtools.count_each_word(word_list)\n",
    "wordtools.print_common_words(word_dict)\n",
    "wordtools.print_uncommon_words(word_dict)"
   ]
  },
  {
   "cell_type": "code",
   "execution_count": null,
   "metadata": {},
   "outputs": [],
   "source": []
  }
 ],
 "metadata": {
  "kernelspec": {
   "display_name": "Python 3",
   "language": "python",
   "name": "python3"
  },
  "language_info": {
   "codemirror_mode": {
    "name": "ipython",
    "version": 3
   },
   "file_extension": ".py",
   "mimetype": "text/x-python",
   "name": "python",
   "nbconvert_exporter": "python",
   "pygments_lexer": "ipython3",
   "version": "3.7.4"
  }
 },
 "nbformat": 4,
 "nbformat_minor": 2
}
