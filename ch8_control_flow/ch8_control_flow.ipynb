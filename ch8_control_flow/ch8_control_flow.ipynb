{
 "cells": [
  {
   "cell_type": "markdown",
   "metadata": {},
   "source": [
    "# Ch 8. Control flow\n",
    "* Repeating code with a `while` loop\n",
    "* Making decisions: the `if-elif-else` statement\n",
    "* Iterating over a list with a `for` loop\n",
    "* Using list and dictionary comprehensions\n",
    "* Delimiting statements and blocks with indentation\n",
    "* Evaluating Boolean values and expressions"
   ]
  },
  {
   "cell_type": "code",
   "execution_count": 1,
   "metadata": {},
   "outputs": [],
   "source": [
    "from IPython.core.interactiveshell import InteractiveShell\n",
    "InteractiveShell.ast_node_interactivity = \"all\""
   ]
  },
  {
   "cell_type": "markdown",
   "metadata": {},
   "source": [
    "## 8.1 The `while` loop"
   ]
  },
  {
   "cell_type": "code",
   "execution_count": 2,
   "metadata": {},
   "outputs": [
    {
     "name": "stdout",
     "output_type": "stream",
     "text": [
      "1\n",
      "2\n",
      "Since i == 3, I am continuing.\n",
      "4\n",
      "Since i == 5, I am breaking, else statement is skipped.\n",
      "Program flow continues.\n"
     ]
    }
   ],
   "source": [
    "i = 0\n",
    "while i < 7:\n",
    "    i += 1\n",
    "    if i == 3:\n",
    "        print(\"Since i == 3, I am continuing.\")\n",
    "        continue\n",
    "    if i == 5:\n",
    "        print(\"Since i == 5, I am breaking, else statement is skipped.\")\n",
    "        break\n",
    "    print(i)\n",
    "else:\n",
    "    print(\"This else statement is run.\")\n",
    "    \n",
    "print(\"Program flow continues.\")"
   ]
  },
  {
   "cell_type": "code",
   "execution_count": 3,
   "metadata": {},
   "outputs": [
    {
     "name": "stdout",
     "output_type": "stream",
     "text": [
      "1\n",
      "2\n",
      "Since i == 3, I am continuing.\n",
      "4\n",
      "5\n",
      "6\n",
      "7\n",
      "This else statement is run.\n",
      "Program flow continues.\n"
     ]
    }
   ],
   "source": [
    "i = 0\n",
    "while i < 7:\n",
    "    i += 1\n",
    "    if i == 3:\n",
    "        print(\"Since i == 3, I am continuing.\")\n",
    "        continue\n",
    "    #if i == 5:\n",
    "    #    print(\"Since i == 5, I am breaking, else statement is skipped.\")\n",
    "    #    break\n",
    "    print(i)\n",
    "else:\n",
    "    print(\"This else statement is run.\")\n",
    "    \n",
    "print(\"Program flow continues.\")"
   ]
  },
  {
   "cell_type": "markdown",
   "metadata": {},
   "source": [
    "## 8.2  The `if-elif-else` statement"
   ]
  },
  {
   "cell_type": "code",
   "execution_count": 4,
   "metadata": {},
   "outputs": [
    {
     "name": "stdout",
     "output_type": "stream",
     "text": [
      "2\n",
      "5\n"
     ]
    }
   ],
   "source": [
    "x = 2\n",
    "if x < 5:\n",
    "    pass\n",
    "else:\n",
    "    x = 5\n",
    "print(x)\n",
    "\n",
    "x = 9\n",
    "if x < 5:\n",
    "    pass\n",
    "else:\n",
    "    x = 5\n",
    "print(x)"
   ]
  },
  {
   "cell_type": "code",
   "execution_count": 5,
   "metadata": {},
   "outputs": [
    {
     "name": "stdout",
     "output_type": "stream",
     "text": [
      "Running function for a\n",
      "Running function for c\n"
     ]
    }
   ],
   "source": [
    "# Case statement alternative\n",
    "\n",
    "def do_a_stuff():\n",
    "    print(\"Running function for a\")\n",
    "def do_b_stuff():\n",
    "    print(\"Running function for b\")\n",
    "def do_c_stuff():\n",
    "    print(\"Running function for c\")\n",
    "funct_dict = {'a': do_a_stuff,\n",
    "              'b': do_b_stuff,\n",
    "              'c': do_c_stuff}\n",
    "x = 'a'\n",
    "funct_dict[x]()\n",
    "funct_dict['c']()\n"
   ]
  },
  {
   "cell_type": "markdown",
   "metadata": {},
   "source": []
  },
  {
   "cell_type": "markdown",
   "metadata": {},
   "source": [
    "## 8.3 The `for` loop\n",
    "* can iterate over every element in a list, tuple, string, or generator"
   ]
  },
  {
   "cell_type": "code",
   "execution_count": 6,
   "metadata": {},
   "outputs": [
    {
     "name": "stdout",
     "output_type": "stream",
     "text": [
      "I will continue because item(1.0) < 1.25\n",
      "I will continue because item(1.1) < 1.25\n",
      "I will continue because item(1.2) < 1.25\n",
      "1.5\n",
      "1.7\n",
      "I will break because item(1.8) > 1.75, I will skip else.\n",
      "Flow continues\n"
     ]
    }
   ],
   "source": [
    "for item in [1.0, 1.1, 1.2, 1.5, 1.7, 1.8, 2.0]:\n",
    "    if item < 1.25:\n",
    "        print(f\"I will continue because item({item}) < 1.25\")\n",
    "        continue\n",
    "    if item > 1.75:\n",
    "        print(f\"I will break because item({item}) > 1.75, I will skip else.\")\n",
    "        break\n",
    "    print(item)\n",
    "else:\n",
    "    print(\"Else statement is run\")\n",
    "print(\"Flow continues\")"
   ]
  },
  {
   "cell_type": "code",
   "execution_count": 7,
   "metadata": {},
   "outputs": [
    {
     "name": "stdout",
     "output_type": "stream",
     "text": [
      "I will continue because item(1.0) < 1.25\n",
      "I will continue because item(1.1) < 1.25\n",
      "I will continue because item(1.2) < 1.25\n",
      "1.5\n",
      "1.7\n",
      "1.8\n",
      "2.0\n",
      "Else statement is run\n",
      "Flow continues\n"
     ]
    }
   ],
   "source": [
    "for item in [1.0, 1.1, 1.2, 1.5, 1.7, 1.8, 2.0]:\n",
    "    if item < 1.25:\n",
    "        print(f\"I will continue because item({item}) < 1.25\")\n",
    "        continue\n",
    "    #if item > 1.75:\n",
    "    #    print(f\"I will break because item({item}) > 1.75, I will skip else.\")\n",
    "    #    break\n",
    "    print(item)\n",
    "else:\n",
    "    print(\"Else statement is run\")\n",
    "print(\"Flow continues\")"
   ]
  },
  {
   "cell_type": "code",
   "execution_count": 8,
   "metadata": {},
   "outputs": [
    {
     "name": "stdout",
     "output_type": "stream",
     "text": [
      "1.0\n",
      "0.5\n",
      "0.3333333333333333\n"
     ]
    }
   ],
   "source": [
    "x = [1.0, 2.0, 3.0]\n",
    "for n in x:\n",
    "    print(1/n)"
   ]
  },
  {
   "cell_type": "markdown",
   "metadata": {},
   "source": [
    "### 8.3.1 The 'range' function\n",
    "* if 1 arg, produces 0, 1, 2, ... arg_1-1"
   ]
  },
  {
   "cell_type": "code",
   "execution_count": 9,
   "metadata": {},
   "outputs": [
    {
     "name": "stdout",
     "output_type": "stream",
     "text": [
      "Found a negative number at index,  2\n",
      "Found a negative number at index,  5\n"
     ]
    }
   ],
   "source": [
    "x = [1, 3, -7, 4, 9, -5, 4]\n",
    "for i in range(len(x)):\n",
    "    if x[i] < 0:\n",
    "        print(\"Found a negative number at index, \", i)"
   ]
  },
  {
   "cell_type": "code",
   "execution_count": 10,
   "metadata": {},
   "outputs": [
    {
     "name": "stdout",
     "output_type": "stream",
     "text": [
      "0\n",
      "1\n",
      "2\n",
      "3\n",
      "4\n"
     ]
    }
   ],
   "source": [
    "for i in range(5): #range is a generator to make an int on demand\n",
    "    print(i)"
   ]
  },
  {
   "cell_type": "markdown",
   "metadata": {},
   "source": [
    "### 8.3.2 Controlling `range` with starting and stepping values\n",
    "* if 2 args, produces arg_1, arg_1 + 1, arg_1 + 2, ... arg_2 - 1\n",
    "* if 3 args, produces arg_1, arg_1 + 1 * arg_3, arg_1 + 2 * arg_3, ... arg_1 + n * arg_3 where n < (arg_2 - arg_1 - 1) / arg_3"
   ]
  },
  {
   "cell_type": "code",
   "execution_count": 11,
   "metadata": {},
   "outputs": [
    {
     "data": {
      "text/plain": [
       "[3, 4, 5, 6]"
      ]
     },
     "execution_count": 11,
     "metadata": {},
     "output_type": "execute_result"
    },
    {
     "data": {
      "text/plain": [
       "[2, 3, 4, 5, 6, 7, 8, 9]"
      ]
     },
     "execution_count": 11,
     "metadata": {},
     "output_type": "execute_result"
    },
    {
     "data": {
      "text/plain": [
       "[]"
      ]
     },
     "execution_count": 11,
     "metadata": {},
     "output_type": "execute_result"
    }
   ],
   "source": [
    "list(range(3,7))\n",
    "list(range(2,10))\n",
    "list(range(5,3))"
   ]
  },
  {
   "cell_type": "code",
   "execution_count": 12,
   "metadata": {},
   "outputs": [
    {
     "data": {
      "text/plain": [
       "[0, 2, 4, 6, 8]"
      ]
     },
     "execution_count": 12,
     "metadata": {},
     "output_type": "execute_result"
    },
    {
     "data": {
      "text/plain": [
       "[5, 4, 3, 2, 1]"
      ]
     },
     "execution_count": 12,
     "metadata": {},
     "output_type": "execute_result"
    }
   ],
   "source": [
    "list(range(0,10,2))\n",
    "list(range(5, 0, -1))"
   ]
  },
  {
   "cell_type": "code",
   "execution_count": 13,
   "metadata": {},
   "outputs": [
    {
     "data": {
      "text/plain": [
       "[0, 3, 6, 9]"
      ]
     },
     "execution_count": 13,
     "metadata": {},
     "output_type": "execute_result"
    },
    {
     "data": {
      "text/plain": [
       "[5, 3, 1]"
      ]
     },
     "execution_count": 13,
     "metadata": {},
     "output_type": "execute_result"
    }
   ],
   "source": [
    "list(range(0,10,3))\n",
    "list(range(5, 0, -2))"
   ]
  },
  {
   "cell_type": "markdown",
   "metadata": {},
   "source": [
    "### 8.3.4 The `for` loop and `tuple` unpacking"
   ]
  },
  {
   "cell_type": "code",
   "execution_count": 14,
   "metadata": {},
   "outputs": [
    {
     "name": "stdout",
     "output_type": "stream",
     "text": [
      "result is 68\n"
     ]
    }
   ],
   "source": [
    "somelist = [(1, 2), (3, 7), (9, 5)]\n",
    "result = 0\n",
    "for t in somelist:\n",
    "    result = result + (t[0] * t[1])\n",
    "print(f'result is {result}')"
   ]
  },
  {
   "cell_type": "code",
   "execution_count": 15,
   "metadata": {},
   "outputs": [
    {
     "name": "stdout",
     "output_type": "stream",
     "text": [
      "result is 68\n"
     ]
    }
   ],
   "source": [
    "result = 0\n",
    "for x, y in somelist:\n",
    "    result = result + (x * y)\n",
    "print(f'result is {result}')"
   ]
  },
  {
   "cell_type": "markdown",
   "metadata": {},
   "source": [
    "### 8.3.5 The `enumerate` function"
   ]
  },
  {
   "cell_type": "code",
   "execution_count": 16,
   "metadata": {},
   "outputs": [
    {
     "name": "stdout",
     "output_type": "stream",
     "text": [
      "Found a negative number at index  2\n",
      "Found a negative number at index  5\n"
     ]
    },
    {
     "data": {
      "text/plain": [
       "[(0, 1), (1, 3), (2, -7), (3, 4), (4, 9), (5, -5), (6, 4)]"
      ]
     },
     "execution_count": 16,
     "metadata": {},
     "output_type": "execute_result"
    }
   ],
   "source": [
    "x = [1, 3, -7, 4, 9, -5, 4]\n",
    "for i, n in enumerate(x):\n",
    "    if n < 0:\n",
    "        print(\"Found a negative number at index \", i)\n",
    "        \n",
    "list(enumerate(x))"
   ]
  },
  {
   "cell_type": "markdown",
   "metadata": {},
   "source": [
    "### 8.3.6 The `zip` function"
   ]
  },
  {
   "cell_type": "code",
   "execution_count": 17,
   "metadata": {},
   "outputs": [
    {
     "data": {
      "text/plain": [
       "[(1, 'a'), (2, 'b'), (3, 'c')]"
      ]
     },
     "execution_count": 17,
     "metadata": {},
     "output_type": "execute_result"
    }
   ],
   "source": [
    "x = [1, 2, 3, 4]\n",
    "y = ['a', 'b', 'c']\n",
    "z = zip(x, y)\n",
    "list(z)"
   ]
  },
  {
   "cell_type": "code",
   "execution_count": 18,
   "metadata": {},
   "outputs": [
    {
     "name": "stdout",
     "output_type": "stream",
     "text": [
      "[1, 3, 5, 3, 5]\n",
      "starting x = [1, 3, 5, 0, -1, -2, -3, 3, 5]\n",
      "checking element 1 in [1, 3, 5, 0, -1, -2, -3, 3, 5]\n",
      "checking element 3 in [1, 3, 5, 0, -1, -2, -3, 3, 5]\n",
      "checking element 5 in [1, 3, 5, 0, -1, -2, -3, 3, 5]\n",
      "checking element 0 in [1, 3, 5, 0, -1, -2, -3, 3, 5]\n",
      "checking element -1 in [1, 3, 5, 0, -1, -2, -3, 3, 5]\n",
      "checking element -3 in [1, 3, 5, 0, -2, -3, 3, 5]\n",
      "checking element 5 in [1, 3, 5, 0, -2, 3, 5]\n",
      "[1, 3, 5, 0, -2, 3, 5]\n"
     ]
    }
   ],
   "source": [
    "x = [1, 3, 5, 0, -1, -2, -3, 3, 5]\n",
    "x_positives = []\n",
    "for i in x:\n",
    "    if i > 0:\n",
    "        x_positives.append(i)\n",
    "print(x_positives)\n",
    "\n",
    "# solution code in book is wrong:\n",
    "# can't change the generator x\n",
    "print(f'starting x = {x}')\n",
    "for element in x:\n",
    "    print(f'checking element {element} in {x}')\n",
    "    if element < 0:\n",
    "        x.remove(element)\n",
    "print(x)\n",
    "\n",
    "#bad code! changes indicies as iterating!\n",
    "#print(x)\n",
    "#for i, x_i in enumerate(x):\n",
    "#    print(f'i is {i}, x_i is {x_i}')\n",
    "#    if(x_i <= 0):\n",
    "#        del(x[i])\n",
    "#print(x)"
   ]
  },
  {
   "cell_type": "code",
   "execution_count": 19,
   "metadata": {},
   "outputs": [
    {
     "name": "stdout",
     "output_type": "stream",
     "text": [
      "4\n"
     ]
    }
   ],
   "source": [
    "y = [[1, -1, 0], [2, 5, -9], [-2, -3, 0]]\n",
    "\n",
    "count_neg_nums = 0\n",
    "for list_of_3 in y:\n",
    "    for element in list_of_3:\n",
    "        if element < 0:\n",
    "            count_neg_nums += 1\n",
    "            \n",
    "print(count_neg_nums)            "
   ]
  },
  {
   "cell_type": "code",
   "execution_count": 20,
   "metadata": {},
   "outputs": [
    {
     "name": "stdout",
     "output_type": "stream",
     "text": [
      "[[1, -1, 0], [2, 5, -9], [-2, -3, 0]]\n",
      "high\n",
      "low\n",
      "neutral\n",
      "high\n",
      "high\n",
      "very low\n",
      "low\n",
      "low\n",
      "neutral\n"
     ]
    }
   ],
   "source": [
    "def print_evaluation(n):\n",
    "    if n < -5:\n",
    "        print(\"very low\")\n",
    "    elif n >= -5 and n < 0:\n",
    "        print(\"low\")\n",
    "    elif n == 0:\n",
    "        print(\"neutral\")\n",
    "    elif n > 0 and n <= 5:\n",
    "        print(\"high\")\n",
    "    else:\n",
    "        print(\"very high\")\n",
    "      \n",
    "print(y)\n",
    "for list_of_3 in y:\n",
    "    for element in list_of_3:\n",
    "        print_evaluation(element)"
   ]
  },
  {
   "cell_type": "markdown",
   "metadata": {},
   "source": [
    "## 8.4 `list` and `dictionary` comprehensions\n",
    "List comprehension\n",
    "\n",
    "`new_list = [expression1 for variable in old_list if expression2]`\n",
    "\n",
    "replaces:\n",
    "```\n",
    "old_list = [...]\n",
    "new_list = []\n",
    "for variable in old_list:\n",
    "    if expression2:\n",
    "        new_list.append(expression1)\n",
    "```\n",
    "\n",
    "Dictionary comprehension\n",
    "\n",
    "`new_dict = {expression1: expression2 for variable in list if expression3}`"
   ]
  },
  {
   "cell_type": "code",
   "execution_count": 21,
   "metadata": {},
   "outputs": [
    {
     "data": {
      "text/plain": [
       "[1, 4, 9, 16]"
      ]
     },
     "execution_count": 21,
     "metadata": {},
     "output_type": "execute_result"
    }
   ],
   "source": [
    "x = [1, 2, 3, 4]\n",
    "x_squared = []\n",
    "for item in x:\n",
    "    x_squared.append(item * item)\n",
    "x_squared"
   ]
  },
  {
   "cell_type": "code",
   "execution_count": 22,
   "metadata": {},
   "outputs": [
    {
     "data": {
      "text/plain": [
       "[1, 4, 9, 16]"
      ]
     },
     "execution_count": 22,
     "metadata": {},
     "output_type": "execute_result"
    }
   ],
   "source": [
    "x_squared = [(item * item) for item in x]\n",
    "x_squared"
   ]
  },
  {
   "cell_type": "code",
   "execution_count": 23,
   "metadata": {},
   "outputs": [
    {
     "data": {
      "text/plain": [
       "[9, 16]"
      ]
     },
     "execution_count": 23,
     "metadata": {},
     "output_type": "execute_result"
    }
   ],
   "source": [
    "x_squared = [(item * item) for item in x if item > 2]\n",
    "x_squared"
   ]
  },
  {
   "cell_type": "code",
   "execution_count": 24,
   "metadata": {},
   "outputs": [
    {
     "data": {
      "text/plain": [
       "{1: 1, 2: 4, 3: 9, 4: 16}"
      ]
     },
     "execution_count": 24,
     "metadata": {},
     "output_type": "execute_result"
    }
   ],
   "source": [
    "x = [1, 2, 3, 4]\n",
    "x_squared_dict = {item: item * item for item in x}\n",
    "x_squared_dict"
   ]
  },
  {
   "cell_type": "markdown",
   "metadata": {},
   "source": [
    "### 8.4.1 Generator expressions"
   ]
  },
  {
   "cell_type": "code",
   "execution_count": 25,
   "metadata": {},
   "outputs": [
    {
     "data": {
      "text/plain": [
       "<generator object <genexpr> at 0x107fa8750>"
      ]
     },
     "execution_count": 25,
     "metadata": {},
     "output_type": "execute_result"
    },
    {
     "name": "stdout",
     "output_type": "stream",
     "text": [
      "1\n",
      "4\n",
      "9\n",
      "16\n"
     ]
    }
   ],
   "source": [
    "x = [1, 2, 3, 4]\n",
    "x_squared_gen = (item * item for item in x) # not square brackets\n",
    "x_squared_gen\n",
    "for square in x_squared_gen:\n",
    "    print(square)"
   ]
  },
  {
   "cell_type": "code",
   "execution_count": 26,
   "metadata": {},
   "outputs": [
    {
     "data": {
      "text/plain": [
       "[3, 5, 1, 0, 3]"
      ]
     },
     "execution_count": 26,
     "metadata": {},
     "output_type": "execute_result"
    }
   ],
   "source": [
    "# remove negative values\n",
    "x = [3, 5, -7, -4, -2, 1, 0 ,3, -1, -1]\n",
    "x_non_neg = [item for item in x if item >= 0]\n",
    "x_non_neg"
   ]
  },
  {
   "cell_type": "code",
   "execution_count": 27,
   "metadata": {},
   "outputs": [
    {
     "data": {
      "text/plain": [
       "[1,\n",
       " 3,\n",
       " 5,\n",
       " 7,\n",
       " 9,\n",
       " 11,\n",
       " 13,\n",
       " 15,\n",
       " 17,\n",
       " 19,\n",
       " 21,\n",
       " 23,\n",
       " 25,\n",
       " 27,\n",
       " 29,\n",
       " 31,\n",
       " 33,\n",
       " 35,\n",
       " 37,\n",
       " 39,\n",
       " 41,\n",
       " 43,\n",
       " 45,\n",
       " 47,\n",
       " 49,\n",
       " 51,\n",
       " 53,\n",
       " 55,\n",
       " 57,\n",
       " 59,\n",
       " 61,\n",
       " 63,\n",
       " 65,\n",
       " 67,\n",
       " 69,\n",
       " 71,\n",
       " 73,\n",
       " 75,\n",
       " 77,\n",
       " 79,\n",
       " 81,\n",
       " 83,\n",
       " 85,\n",
       " 87,\n",
       " 89,\n",
       " 91,\n",
       " 93,\n",
       " 95,\n",
       " 97,\n",
       " 99]"
      ]
     },
     "execution_count": 27,
     "metadata": {},
     "output_type": "execute_result"
    }
   ],
   "source": [
    "odd_nums = (n for n in range(1,101) if n % 2 != 0)\n",
    "list(odd_nums)"
   ]
  },
  {
   "cell_type": "code",
   "execution_count": 28,
   "metadata": {},
   "outputs": [
    {
     "data": {
      "text/plain": [
       "{11: 1331, 12: 1728, 13: 2197, 14: 2744, 15: 3375}"
      ]
     },
     "execution_count": 28,
     "metadata": {},
     "output_type": "execute_result"
    }
   ],
   "source": [
    "cubed_dict = {n: (n * n * n) for n in range(11,15+1)}\n",
    "cubed_dict"
   ]
  },
  {
   "cell_type": "markdown",
   "metadata": {},
   "source": [
    "## 8.5 Statements, blocks, and indentation"
   ]
  },
  {
   "cell_type": "code",
   "execution_count": 29,
   "metadata": {},
   "outputs": [
    {
     "name": "stdout",
     "output_type": "stream",
     "text": [
      "1 1 10\n"
     ]
    }
   ],
   "source": [
    "x = 1; y = 0; z = 0\n",
    "if x > 0: y = 1; z = 10\n",
    "else: y = -1\n",
    "print(x, y, z)"
   ]
  },
  {
   "cell_type": "markdown",
   "metadata": {},
   "source": [
    "don't mix tabs and spaces. just use spaces for indenting. recommend 4 spaces"
   ]
  },
  {
   "cell_type": "code",
   "execution_count": 30,
   "metadata": {},
   "outputs": [
    {
     "name": "stdout",
     "output_type": "stream",
     "text": [
      "string1 string2 string3 string4 string5\n"
     ]
    }
   ],
   "source": [
    "print('string1', 'string2', 'string3' \\\n",
    "     ,'string4', 'string5')\n"
   ]
  },
  {
   "cell_type": "code",
   "execution_count": 31,
   "metadata": {},
   "outputs": [
    {
     "data": {
      "text/plain": [
       "1500"
      ]
     },
     "execution_count": 31,
     "metadata": {},
     "output_type": "execute_result"
    }
   ],
   "source": [
    "x = 100 + 200 + 300 \\\n",
    "   + 400 + 500\n",
    "x"
   ]
  },
  {
   "cell_type": "code",
   "execution_count": 32,
   "metadata": {},
   "outputs": [
    {
     "data": {
      "text/plain": [
       "[100, 300, 500, 700, 900, 1100, 1300]"
      ]
     },
     "execution_count": 32,
     "metadata": {},
     "output_type": "execute_result"
    }
   ],
   "source": [
    "v = [100, 300, 500, 700, 900,\n",
    "    1100, 1300]\n",
    "v"
   ]
  },
  {
   "cell_type": "code",
   "execution_count": 33,
   "metadata": {},
   "outputs": [
    {
     "data": {
      "text/plain": [
       "1200"
      ]
     },
     "execution_count": 33,
     "metadata": {},
     "output_type": "execute_result"
    }
   ],
   "source": [
    "max(1000, 300, 500,\n",
    "       800, 1200)"
   ]
  },
  {
   "cell_type": "code",
   "execution_count": 34,
   "metadata": {},
   "outputs": [
    {
     "data": {
      "text/plain": [
       "1500"
      ]
     },
     "execution_count": 34,
     "metadata": {},
     "output_type": "execute_result"
    }
   ],
   "source": [
    "x = (100 + 200 + 300\n",
    "         + 400 + 500)\n",
    "x"
   ]
  },
  {
   "cell_type": "code",
   "execution_count": 35,
   "metadata": {},
   "outputs": [
    {
     "data": {
      "text/plain": [
       "'strings separated by whitespace are automatically concatenated'"
      ]
     },
     "execution_count": 35,
     "metadata": {},
     "output_type": "execute_result"
    }
   ],
   "source": [
    "\"strings separated by whitespace \"   \\\n",
    "   \"\"\"are automatically\"\"\"  ' concatenated'"
   ]
  },
  {
   "cell_type": "code",
   "execution_count": 36,
   "metadata": {},
   "outputs": [
    {
     "name": "stdout",
     "output_type": "stream",
     "text": [
      "this string broken by a backslash will end up                with the indentation tabs in it\n"
     ]
    }
   ],
   "source": [
    "x = 1\n",
    "if x > 0:\n",
    "    string1 = \"this string broken by a backslash will end up\\\n",
    "                with the indentation tabs in it\"\n",
    "print(string1)"
   ]
  },
  {
   "cell_type": "code",
   "execution_count": 37,
   "metadata": {},
   "outputs": [
    {
     "name": "stdout",
     "output_type": "stream",
     "text": [
      "this can be easily avoided by splitting the string in this way\n"
     ]
    }
   ],
   "source": [
    "x = 1\n",
    "if x > 0:\n",
    "    string1 = \"this can be easily avoided by splitting the \"\\\n",
    "        \"string in this way\"\n",
    "print(string1)"
   ]
  },
  {
   "cell_type": "markdown",
   "metadata": {},
   "source": [
    "## 8.6 Boolean values and expressions"
   ]
  },
  {
   "cell_type": "code",
   "execution_count": 38,
   "metadata": {},
   "outputs": [
    {
     "name": "stdout",
     "output_type": "stream",
     "text": [
      "True examples:\n"
     ]
    },
    {
     "data": {
      "text/plain": [
       "True"
      ]
     },
     "execution_count": 38,
     "metadata": {},
     "output_type": "execute_result"
    },
    {
     "data": {
      "text/plain": [
       "True"
      ]
     },
     "execution_count": 38,
     "metadata": {},
     "output_type": "execute_result"
    },
    {
     "data": {
      "text/plain": [
       "True"
      ]
     },
     "execution_count": 38,
     "metadata": {},
     "output_type": "execute_result"
    },
    {
     "data": {
      "text/plain": [
       "True"
      ]
     },
     "execution_count": 38,
     "metadata": {},
     "output_type": "execute_result"
    },
    {
     "data": {
      "text/plain": [
       "True"
      ]
     },
     "execution_count": 38,
     "metadata": {},
     "output_type": "execute_result"
    },
    {
     "data": {
      "text/plain": [
       "True"
      ]
     },
     "execution_count": 38,
     "metadata": {},
     "output_type": "execute_result"
    },
    {
     "data": {
      "text/plain": [
       "True"
      ]
     },
     "execution_count": 38,
     "metadata": {},
     "output_type": "execute_result"
    },
    {
     "data": {
      "text/plain": [
       "True"
      ]
     },
     "execution_count": 38,
     "metadata": {},
     "output_type": "execute_result"
    },
    {
     "data": {
      "text/plain": [
       "True"
      ]
     },
     "execution_count": 38,
     "metadata": {},
     "output_type": "execute_result"
    },
    {
     "data": {
      "text/plain": [
       "True"
      ]
     },
     "execution_count": 38,
     "metadata": {},
     "output_type": "execute_result"
    },
    {
     "name": "stdout",
     "output_type": "stream",
     "text": [
      "False examples\n"
     ]
    },
    {
     "data": {
      "text/plain": [
       "False"
      ]
     },
     "execution_count": 38,
     "metadata": {},
     "output_type": "execute_result"
    },
    {
     "data": {
      "text/plain": [
       "False"
      ]
     },
     "execution_count": 38,
     "metadata": {},
     "output_type": "execute_result"
    },
    {
     "data": {
      "text/plain": [
       "False"
      ]
     },
     "execution_count": 38,
     "metadata": {},
     "output_type": "execute_result"
    },
    {
     "data": {
      "text/plain": [
       "False"
      ]
     },
     "execution_count": 38,
     "metadata": {},
     "output_type": "execute_result"
    },
    {
     "data": {
      "text/plain": [
       "False"
      ]
     },
     "execution_count": 38,
     "metadata": {},
     "output_type": "execute_result"
    },
    {
     "data": {
      "text/plain": [
       "False"
      ]
     },
     "execution_count": 38,
     "metadata": {},
     "output_type": "execute_result"
    },
    {
     "data": {
      "text/plain": [
       "False"
      ]
     },
     "execution_count": 38,
     "metadata": {},
     "output_type": "execute_result"
    },
    {
     "data": {
      "text/plain": [
       "False"
      ]
     },
     "execution_count": 38,
     "metadata": {},
     "output_type": "execute_result"
    },
    {
     "data": {
      "text/plain": [
       "False"
      ]
     },
     "execution_count": 38,
     "metadata": {},
     "output_type": "execute_result"
    }
   ],
   "source": [
    "print(\"True examples:\")\n",
    "bool(True)\n",
    "bool(1)\n",
    "bool(2)\n",
    "bool(-222)\n",
    "bool(1.1)\n",
    "bool(0.0 + 0.1j)\n",
    "bool(\"non-empty\")\n",
    "bool([0])\n",
    "bool({0: 0})\n",
    "bool(set([1,2,2]))\n",
    "\n",
    "print(\"False examples\")\n",
    "bool(False)\n",
    "bool(0)\n",
    "bool(0.0)\n",
    "bool(0.0 + 0j)\n",
    "bool(\"\")\n",
    "bool([])\n",
    "bool({})\n",
    "bool(set())\n",
    "bool(None)"
   ]
  },
  {
   "cell_type": "markdown",
   "metadata": {},
   "source": [
    "### 8.6.2 Comparison and Boolean operators"
   ]
  },
  {
   "cell_type": "code",
   "execution_count": 39,
   "metadata": {},
   "outputs": [
    {
     "name": "stdout",
     "output_type": "stream",
     "text": [
      "hi\n",
      "python is amazing\n"
     ]
    }
   ],
   "source": [
    "x = 2\n",
    "if 0 < x and x < 10:\n",
    "    print(\"hi\")\n",
    "if 0 < x < 10:\n",
    "    print(\"python is amazing\")"
   ]
  },
  {
   "cell_type": "code",
   "execution_count": 40,
   "metadata": {},
   "outputs": [
    {
     "name": "stdout",
     "output_type": "stream",
     "text": [
      "0\n",
      "0\n",
      "2\n"
     ]
    }
   ],
   "source": [
    "print( 0 and 1 and 2)\n",
    "print( 1 and 0 and 2)\n",
    "print( 0 or 2 or 0)"
   ]
  },
  {
   "cell_type": "code",
   "execution_count": 41,
   "metadata": {},
   "outputs": [
    {
     "data": {
      "text/plain": [
       "[3, 4]"
      ]
     },
     "execution_count": 41,
     "metadata": {},
     "output_type": "execute_result"
    },
    {
     "data": {
      "text/plain": [
       "[]"
      ]
     },
     "execution_count": 41,
     "metadata": {},
     "output_type": "execute_result"
    },
    {
     "data": {
      "text/plain": [
       "[2]"
      ]
     },
     "execution_count": 41,
     "metadata": {},
     "output_type": "execute_result"
    },
    {
     "data": {
      "text/plain": [
       "5"
      ]
     },
     "execution_count": 41,
     "metadata": {},
     "output_type": "execute_result"
    },
    {
     "data": {
      "text/plain": [
       "[[]]"
      ]
     },
     "execution_count": 41,
     "metadata": {},
     "output_type": "execute_result"
    }
   ],
   "source": [
    "[2] and [3, 4]\n",
    "[] and 5\n",
    "[2] or [3, 4]\n",
    "[] or 5\n",
    "[[]] or 5"
   ]
  },
  {
   "cell_type": "code",
   "execution_count": 42,
   "metadata": {},
   "outputs": [
    {
     "data": {
      "text/plain": [
       "True"
      ]
     },
     "execution_count": 42,
     "metadata": {},
     "output_type": "execute_result"
    },
    {
     "data": {
      "text/plain": [
       "False"
      ]
     },
     "execution_count": 42,
     "metadata": {},
     "output_type": "execute_result"
    },
    {
     "data": {
      "text/plain": [
       "True"
      ]
     },
     "execution_count": 42,
     "metadata": {},
     "output_type": "execute_result"
    }
   ],
   "source": [
    "x = [0]\n",
    "y = [x, 1]\n",
    "x is y[0] # yes ref same object\n",
    "x is y\n",
    "x == y[0]"
   ]
  },
  {
   "cell_type": "code",
   "execution_count": 43,
   "metadata": {},
   "outputs": [
    {
     "data": {
      "text/plain": [
       "False"
      ]
     },
     "execution_count": 43,
     "metadata": {},
     "output_type": "execute_result"
    },
    {
     "data": {
      "text/plain": [
       "True"
      ]
     },
     "execution_count": 43,
     "metadata": {},
     "output_type": "execute_result"
    }
   ],
   "source": [
    "x = [0]\n",
    "x is y[0] # nope! ref different objects\n",
    "x == y[0]"
   ]
  },
  {
   "cell_type": "code",
   "execution_count": 44,
   "metadata": {},
   "outputs": [
    {
     "name": "stdout",
     "output_type": "stream",
     "text": [
      "bool(1) should be true: True\n",
      "bool(0) should be false: False\n",
      "bool(-1) should be true: True\n",
      "bool([0]) should be true: True\n",
      "bool(1 and 0) should be false: False\n",
      "bool(1 > 0 or []) should be true: True\n"
     ]
    }
   ],
   "source": [
    "print(f\"bool(1) should be true: {bool(1)}\")\n",
    "print(f\"bool(0) should be false: {bool(0)}\")\n",
    "print(f\"bool(-1) should be true: {bool(-1)}\")\n",
    "print(f\"bool([0]) should be true: {bool([0])}\")\n",
    "print(f\"bool(1 and 0) should be false: {bool(1 and 0)}\")\n",
    "print(f\"bool(1 > 0 or []) should be true: {bool(1 > 0 or [])}\")\n",
    "\n"
   ]
  },
  {
   "cell_type": "markdown",
   "metadata": {},
   "source": [
    "## 8.7 Writing a simple program to analyze a text file\n",
    "* see `word_count_refactor.py`"
   ]
  },
  {
   "cell_type": "code",
   "execution_count": null,
   "metadata": {},
   "outputs": [],
   "source": []
  },
  {
   "cell_type": "code",
   "execution_count": null,
   "metadata": {},
   "outputs": [],
   "source": []
  }
 ],
 "metadata": {
  "kernelspec": {
   "display_name": "Python 3",
   "language": "python",
   "name": "python3"
  },
  "language_info": {
   "codemirror_mode": {
    "name": "ipython",
    "version": 3
   },
   "file_extension": ".py",
   "mimetype": "text/x-python",
   "name": "python",
   "nbconvert_exporter": "python",
   "pygments_lexer": "ipython3",
   "version": "3.7.4"
  }
 },
 "nbformat": 4,
 "nbformat_minor": 2
}
