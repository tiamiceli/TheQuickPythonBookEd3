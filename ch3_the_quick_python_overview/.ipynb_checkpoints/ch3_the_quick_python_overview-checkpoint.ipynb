{
 "cells": [
  {
   "cell_type": "markdown",
   "metadata": {},
   "source": [
    "# Ch 3. The Quick Python overview\n",
    "\n",
    "* Surveying Python\n",
    "* Using built-in data types\n",
    "* Controlling program flow\n",
    "* Creating modules\n",
    "* Using object-oriented programming"
   ]
  },
  {
   "cell_type": "code",
   "execution_count": 1,
   "metadata": {},
   "outputs": [],
   "source": [
    "from IPython.core.interactiveshell import InteractiveShell\n",
    "InteractiveShell.ast_node_interactivity = \"all\""
   ]
  },
  {
   "cell_type": "markdown",
   "metadata": {},
   "source": [
    "## 3.2 Built-in data types"
   ]
  },
  {
   "cell_type": "markdown",
   "metadata": {},
   "source": [
    "### ints"
   ]
  },
  {
   "cell_type": "code",
   "execution_count": 2,
   "metadata": {},
   "outputs": [
    {
     "data": {
      "text/plain": [
       "int"
      ]
     },
     "execution_count": 2,
     "metadata": {},
     "output_type": "execute_result"
    },
    {
     "data": {
      "text/plain": [
       "int"
      ]
     },
     "execution_count": 2,
     "metadata": {},
     "output_type": "execute_result"
    },
    {
     "data": {
      "text/plain": [
       "int"
      ]
     },
     "execution_count": 2,
     "metadata": {},
     "output_type": "execute_result"
    },
    {
     "data": {
      "text/plain": [
       "int"
      ]
     },
     "execution_count": 2,
     "metadata": {},
     "output_type": "execute_result"
    },
    {
     "data": {
      "text/plain": [
       "int"
      ]
     },
     "execution_count": 2,
     "metadata": {},
     "output_type": "execute_result"
    },
    {
     "data": {
      "text/plain": [
       "int"
      ]
     },
     "execution_count": 2,
     "metadata": {},
     "output_type": "execute_result"
    }
   ],
   "source": [
    "type(1)\n",
    "type(-3)\n",
    "type(42)\n",
    "type(355)\n",
    "type(8888888888888)\n",
    "type(-77777777777777)"
   ]
  },
  {
   "cell_type": "markdown",
   "metadata": {},
   "source": [
    "### floats"
   ]
  },
  {
   "cell_type": "code",
   "execution_count": 3,
   "metadata": {},
   "outputs": [
    {
     "data": {
      "text/plain": [
       "float"
      ]
     },
     "execution_count": 3,
     "metadata": {},
     "output_type": "execute_result"
    },
    {
     "data": {
      "text/plain": [
       "float"
      ]
     },
     "execution_count": 3,
     "metadata": {},
     "output_type": "execute_result"
    },
    {
     "data": {
      "text/plain": [
       "float"
      ]
     },
     "execution_count": 3,
     "metadata": {},
     "output_type": "execute_result"
    }
   ],
   "source": [
    "type(3.0)\n",
    "type(31e12)\n",
    "type(-6e-4)"
   ]
  },
  {
   "cell_type": "markdown",
   "metadata": {},
   "source": [
    "### complex"
   ]
  },
  {
   "cell_type": "code",
   "execution_count": 4,
   "metadata": {},
   "outputs": [
    {
     "data": {
      "text/plain": [
       "complex"
      ]
     },
     "execution_count": 4,
     "metadata": {},
     "output_type": "execute_result"
    },
    {
     "data": {
      "text/plain": [
       "complex"
      ]
     },
     "execution_count": 4,
     "metadata": {},
     "output_type": "execute_result"
    },
    {
     "data": {
      "text/plain": [
       "complex"
      ]
     },
     "execution_count": 4,
     "metadata": {},
     "output_type": "execute_result"
    }
   ],
   "source": [
    "type(3 + 2j)\n",
    "type(-4-2j)\n",
    "type(4.2 + 6.3j)"
   ]
  },
  {
   "cell_type": "markdown",
   "metadata": {},
   "source": [
    "### boolean"
   ]
  },
  {
   "cell_type": "code",
   "execution_count": 5,
   "metadata": {},
   "outputs": [
    {
     "data": {
      "text/plain": [
       "bool"
      ]
     },
     "execution_count": 5,
     "metadata": {},
     "output_type": "execute_result"
    },
    {
     "data": {
      "text/plain": [
       "bool"
      ]
     },
     "execution_count": 5,
     "metadata": {},
     "output_type": "execute_result"
    }
   ],
   "source": [
    "type(True)\n",
    "type(False)"
   ]
  },
  {
   "cell_type": "markdown",
   "metadata": {},
   "source": [
    "### examples with ints"
   ]
  },
  {
   "cell_type": "code",
   "execution_count": 6,
   "metadata": {},
   "outputs": [
    {
     "name": "stdout",
     "output_type": "stream",
     "text": [
      "x is 1\n",
      "5 / 2 is 2.5\n",
      "5 // 2 is 2\n",
      "5 % 2 is 1\n",
      "2 ** 8 is 256\n",
      "100001 ** 3 is 1000030000300001\n"
     ]
    }
   ],
   "source": [
    "x = 5 + 2 - 3 * 2 #1\n",
    "print(f'x is {x}')\n",
    "print(f'5 / 2 is {5 / 2}')\n",
    "print(f'5 // 2 is {5 // 2}')\n",
    "print(f'5 % 2 is {5 % 2}')\n",
    "print(f'2 ** 8 is {2 ** 8}')\n",
    "print(f'100001 ** 3 is {100001 ** 3}')"
   ]
  },
  {
   "cell_type": "markdown",
   "metadata": {},
   "source": [
    "### examples with floats"
   ]
  },
  {
   "cell_type": "code",
   "execution_count": 7,
   "metadata": {},
   "outputs": [
    {
     "name": "stdout",
     "output_type": "stream",
     "text": [
      "x is 33.13784737771648\n",
      "3.5e30 * 2.77e45 is 9.695e+75\n",
      "1000000001.0 ** 3 is 1.000000003e+27\n"
     ]
    }
   ],
   "source": [
    "x = 4.3 ** 2.4\n",
    "print(f'x is {x}')\n",
    "print(f'3.5e30 * 2.77e45 is {3.5e30 * 2.77e45}')\n",
    "print(f'1000000001.0 ** 3 is {1000000001.0 ** 3}')"
   ]
  },
  {
   "cell_type": "markdown",
   "metadata": {},
   "source": [
    "### examples with complex numbers"
   ]
  },
  {
   "cell_type": "code",
   "execution_count": 8,
   "metadata": {},
   "outputs": [
    {
     "name": "stdout",
     "output_type": "stream",
     "text": [
      "(3+2j) ** (2+3j) is (0.6817665190890336-2.1207457766159625j)\n",
      "x is (-6+35j)\n",
      "x.real is -6.0\n",
      "x.imag is 35.0\n"
     ]
    }
   ],
   "source": [
    "print(f'(3+2j) ** (2+3j) is {(3+2j) ** (2+3j)}')\n",
    "x = (3+2j) * (4+9j)\n",
    "print(f'x is {x}')\n",
    "print(f'x.real is {x.real}')\n",
    "print(f'x.imag is {x.imag}')"
   ]
  },
  {
   "cell_type": "markdown",
   "metadata": {},
   "source": [
    "### common operators"
   ]
  },
  {
   "cell_type": "code",
   "execution_count": 9,
   "metadata": {},
   "outputs": [
    {
     "data": {
      "text/plain": [
       "3"
      ]
     },
     "execution_count": 9,
     "metadata": {},
     "output_type": "execute_result"
    },
    {
     "data": {
      "text/plain": [
       "4"
      ]
     },
     "execution_count": 9,
     "metadata": {},
     "output_type": "execute_result"
    }
   ],
   "source": [
    "round(3.49)\n",
    "import math\n",
    "math.ceil(3.49)"
   ]
  },
  {
   "cell_type": "markdown",
   "metadata": {},
   "source": [
    "### examples with booleans"
   ]
  },
  {
   "cell_type": "code",
   "execution_count": 10,
   "metadata": {},
   "outputs": [
    {
     "name": "stdout",
     "output_type": "stream",
     "text": [
      "x is False\n",
      "not x is True\n",
      "y is 2\n"
     ]
    }
   ],
   "source": [
    "x = False\n",
    "print(f'x is {x}')\n",
    "print(f'not x is {not x}')\n",
    "y = True * 2\n",
    "print(f'y is {y}') # True is 1, False is 0"
   ]
  },
  {
   "cell_type": "markdown",
   "metadata": {},
   "source": [
    "### lists"
   ]
  },
  {
   "cell_type": "code",
   "execution_count": 11,
   "metadata": {},
   "outputs": [
    {
     "data": {
      "text/plain": [
       "list"
      ]
     },
     "execution_count": 11,
     "metadata": {},
     "output_type": "execute_result"
    },
    {
     "data": {
      "text/plain": [
       "list"
      ]
     },
     "execution_count": 11,
     "metadata": {},
     "output_type": "execute_result"
    },
    {
     "data": {
      "text/plain": [
       "list"
      ]
     },
     "execution_count": 11,
     "metadata": {},
     "output_type": "execute_result"
    },
    {
     "data": {
      "text/plain": [
       "list"
      ]
     },
     "execution_count": 11,
     "metadata": {},
     "output_type": "execute_result"
    },
    {
     "data": {
      "text/plain": [
       "tuple"
      ]
     },
     "execution_count": 11,
     "metadata": {},
     "output_type": "execute_result"
    }
   ],
   "source": [
    "type([])\n",
    "type([1])\n",
    "type([1, 2, 3 ,4 ,5 ,6 ,7 ,8, 12])\n",
    "type([1, \"two\", 3, 4.0, [\"a\", \"b\"], (5, 6)])\n",
    "type((5, 6))"
   ]
  },
  {
   "cell_type": "code",
   "execution_count": 12,
   "metadata": {},
   "outputs": [
    {
     "name": "stdout",
     "output_type": "stream",
     "text": [
      "x = ['first', 'second', 'third', 'fourth']\n",
      "x[0] = first\n",
      "x[2] = third\n",
      "x[-1] = fourth\n",
      "x[-2] = third\n",
      "x[1:-1] = ['second', 'third']\n",
      "x[0:3] = ['first', 'second', 'third']\n",
      "x[-2:-1] = ['third'] ********** remember me! ********\n",
      "x[:3] = ['first', 'second', 'third']\n",
      "x[-2:] = ['third', 'fourth']\n"
     ]
    }
   ],
   "source": [
    "x = [\"first\", \"second\", \"third\", \"fourth\"]\n",
    "print(f'x = {x}')\n",
    "print(f'x[0] = {x[0]}')\n",
    "print(f'x[2] = {x[2]}')\n",
    "print(f'x[-1] = {x[-1]}')\n",
    "print(f'x[-2] = {x[-2]}')\n",
    "print(f'x[1:-1] = {x[1:-1]}')\n",
    "print(f'x[0:3] = {x[0:3]}')\n",
    "print(f'x[-2:-1] = {x[-2:-1]} ********** remember me! ********')\n",
    "print(f'x[:3] = {x[:3]}')\n",
    "print(f'x[-2:] = {x[-2:]}')"
   ]
  },
  {
   "cell_type": "code",
   "execution_count": 13,
   "metadata": {},
   "outputs": [
    {
     "data": {
      "text/plain": [
       "[1, 2, 3, 4, 5, 6, 7, 8, 9]"
      ]
     },
     "execution_count": 13,
     "metadata": {},
     "output_type": "execute_result"
    }
   ],
   "source": [
    "x = [1,2,3,4,5,6,7,8,9]\n",
    "x"
   ]
  },
  {
   "cell_type": "code",
   "execution_count": 14,
   "metadata": {
    "scrolled": true
   },
   "outputs": [
    {
     "data": {
      "text/plain": [
       "[1, 'two', 3, 4, 5, 6, 7, 8, 9]"
      ]
     },
     "execution_count": 14,
     "metadata": {},
     "output_type": "execute_result"
    }
   ],
   "source": [
    "x[1] = \"two\"\n",
    "x"
   ]
  },
  {
   "cell_type": "code",
   "execution_count": 15,
   "metadata": {},
   "outputs": [
    {
     "data": {
      "text/plain": [
       "[1, 'two', 3, 4, 5, 6, 7, 8]"
      ]
     },
     "execution_count": 15,
     "metadata": {},
     "output_type": "execute_result"
    }
   ],
   "source": [
    "x[8:9] = []\n",
    "x"
   ]
  },
  {
   "cell_type": "code",
   "execution_count": 16,
   "metadata": {},
   "outputs": [
    {
     "data": {
      "text/plain": [
       "[1, 'two', 3, 4, 5, 6.0, 6.5, 7.0, 8]"
      ]
     },
     "execution_count": 16,
     "metadata": {},
     "output_type": "execute_result"
    }
   ],
   "source": [
    "x[5:7] = [6.0, 6.5, 7.0]\n",
    "x"
   ]
  },
  {
   "cell_type": "code",
   "execution_count": 17,
   "metadata": {},
   "outputs": [
    {
     "data": {
      "text/plain": [
       "[6.0, 6.5, 7.0, 8]"
      ]
     },
     "execution_count": 17,
     "metadata": {},
     "output_type": "execute_result"
    }
   ],
   "source": [
    "x[5:]"
   ]
  },
  {
   "cell_type": "code",
   "execution_count": 18,
   "metadata": {},
   "outputs": [
    {
     "data": {
      "text/plain": [
       "[1, 2, 3, 4, 5, 6, 7, 8, 9]"
      ]
     },
     "execution_count": 18,
     "metadata": {},
     "output_type": "execute_result"
    }
   ],
   "source": [
    "x = [1,2,3,4,5,6,7,8,9]\n",
    "x"
   ]
  },
  {
   "cell_type": "code",
   "execution_count": 19,
   "metadata": {},
   "outputs": [
    {
     "data": {
      "text/plain": [
       "9"
      ]
     },
     "execution_count": 19,
     "metadata": {},
     "output_type": "execute_result"
    }
   ],
   "source": [
    "len(x)"
   ]
  },
  {
   "cell_type": "code",
   "execution_count": 20,
   "metadata": {},
   "outputs": [
    {
     "data": {
      "text/plain": [
       "[-1, 0, 1, 2, 3, 4, 5, 6, 7, 8, 9]"
      ]
     },
     "execution_count": 20,
     "metadata": {},
     "output_type": "execute_result"
    }
   ],
   "source": [
    "[-1, 0] + x"
   ]
  },
  {
   "cell_type": "code",
   "execution_count": 21,
   "metadata": {},
   "outputs": [
    {
     "data": {
      "text/plain": [
       "[9, 8, 7, 6, 5, 4, 3, 2, 1]"
      ]
     },
     "execution_count": 21,
     "metadata": {},
     "output_type": "execute_result"
    }
   ],
   "source": [
    "x.reverse()\n",
    "x"
   ]
  },
  {
   "cell_type": "markdown",
   "metadata": {},
   "source": [
    "### tuples"
   ]
  },
  {
   "cell_type": "code",
   "execution_count": 22,
   "metadata": {},
   "outputs": [
    {
     "name": "stdout",
     "output_type": "stream",
     "text": [
      "() type is <class 'tuple'>\n",
      "(1) type is <class 'int'>\n",
      "(1,) type is <class 'tuple'>\n",
      "(1,2,3,4,5,6,7,8,12) type is <class 'tuple'>\n",
      "(1, \"two\", 3.0, 4.0, [\"a\",\"b\"], (5,6)) type is <class 'tuple'>\n"
     ]
    }
   ],
   "source": [
    "print(f'() type is {type(())}')\n",
    "print(f'(1) type is {type((1))}')\n",
    "print(f'(1,) type is {type((1,))}')\n",
    "print(f'(1,2,3,4,5,6,7,8,12) type is {type((1,2,3,4,5,6,7,8,12))}')\n",
    "print(f'(1, \"two\", 3.0, 4.0, [\"a\",\"b\"], (5,6)) type is {type((1, \"two\", 3.0, 4.0, [\"a\",\"b\"], (5,6)))}')"
   ]
  },
  {
   "cell_type": "code",
   "execution_count": 23,
   "metadata": {},
   "outputs": [
    {
     "name": "stdout",
     "output_type": "stream",
     "text": [
      "[1, 2, 3, 4]\n"
     ]
    },
    {
     "data": {
      "text/plain": [
       "list"
      ]
     },
     "execution_count": 23,
     "metadata": {},
     "output_type": "execute_result"
    },
    {
     "name": "stdout",
     "output_type": "stream",
     "text": [
      "(1, 2, 3, 4)\n"
     ]
    },
    {
     "data": {
      "text/plain": [
       "tuple"
      ]
     },
     "execution_count": 23,
     "metadata": {},
     "output_type": "execute_result"
    },
    {
     "name": "stdout",
     "output_type": "stream",
     "text": [
      "[1, 2, 3, 4]\n"
     ]
    },
    {
     "data": {
      "text/plain": [
       "list"
      ]
     },
     "execution_count": 23,
     "metadata": {},
     "output_type": "execute_result"
    }
   ],
   "source": [
    "x = [1, 2, 3, 4]\n",
    "print(x)\n",
    "type(x)\n",
    "print(tuple(x))\n",
    "type(tuple(x))\n",
    "print(list(tuple(x)))\n",
    "type(list(tuple(x)))\n"
   ]
  },
  {
   "cell_type": "markdown",
   "metadata": {},
   "source": [
    "### strings"
   ]
  },
  {
   "cell_type": "code",
   "execution_count": 24,
   "metadata": {},
   "outputs": [
    {
     "name": "stdout",
     "output_type": "stream",
     "text": [
      "This is a \"string\"\n",
      "This is a 'string'\n",
      "\tA string in triple quotes\n",
      "that also has a newline in it's creation\n",
      "\n"
     ]
    }
   ],
   "source": [
    "print('This is a \"string\"')\n",
    "print(\"This is a 'string'\")\n",
    "print('''\\tA string in triple quotes\n",
    "that also has a newline in it's creation\\n''')"
   ]
  },
  {
   "cell_type": "code",
   "execution_count": 25,
   "metadata": {},
   "outputs": [
    {
     "name": "stdout",
     "output_type": "stream",
     "text": [
      "live and      let \t    \tlive\n"
     ]
    },
    {
     "data": {
      "text/plain": [
       "['live', 'and', 'let', 'live']"
      ]
     },
     "execution_count": 25,
     "metadata": {},
     "output_type": "execute_result"
    },
    {
     "data": {
      "text/plain": [
       "'live and enjoy life'"
      ]
     },
     "execution_count": 25,
     "metadata": {},
     "output_type": "execute_result"
    },
    {
     "data": {
      "text/plain": [
       "'live and let live'"
      ]
     },
     "execution_count": 25,
     "metadata": {},
     "output_type": "execute_result"
    }
   ],
   "source": [
    "x = \"live and      let \\t    \\tlive\"\n",
    "print(x)\n",
    "x.split()\n",
    "x.replace(\"     let \\t    \\tlive\", \"enjoy life\")\n",
    "import re\n",
    "regexpr = re.compile(r\"[\\t ]+\")\n",
    "regexpr.sub(\" \", x)  "
   ]
  },
  {
   "cell_type": "code",
   "execution_count": 26,
   "metadata": {},
   "outputs": [
    {
     "name": "stdout",
     "output_type": "stream",
     "text": [
      "The constant e is: 2.718 and the list x is: [1, 'two', 3.0, 4.0, ['a', 'b'], (5, 6)]\n",
      "the value of e is 2.72\n"
     ]
    }
   ],
   "source": [
    "e = 2.718\n",
    "x = [1, \"two\", 3.0, 4.0, [\"a\",\"b\"], (5,6)]\n",
    "print(\"The constant e is:\", e, \"and the list x is:\", x)\n",
    "print(\"the value of %s is %.2f\" % (\"e\", e))"
   ]
  },
  {
   "cell_type": "markdown",
   "metadata": {},
   "source": [
    "### dictionaries"
   ]
  },
  {
   "cell_type": "code",
   "execution_count": 27,
   "metadata": {},
   "outputs": [
    {
     "data": {
      "text/plain": [
       "[1, 2, 'first', ('Delorme', 'Ryan', 1995)]"
      ]
     },
     "execution_count": 27,
     "metadata": {},
     "output_type": "execute_result"
    },
    {
     "data": {
      "text/plain": [
       "'one'"
      ]
     },
     "execution_count": 27,
     "metadata": {},
     "output_type": "execute_result"
    },
    {
     "data": {
      "text/plain": [
       "'one'"
      ]
     },
     "execution_count": 27,
     "metadata": {},
     "output_type": "execute_result"
    },
    {
     "data": {
      "text/plain": [
       "'not available'"
      ]
     },
     "execution_count": 27,
     "metadata": {},
     "output_type": "execute_result"
    }
   ],
   "source": [
    "x = {1: \"one\", 2: \"two\"}\n",
    "x[\"first\"] = \"one\"\n",
    "x[(\"Delorme\", \"Ryan\", 1995)] = (1,2,3)\n",
    "list(x.keys())\n",
    "x[1]\n",
    "x.get(1, \"not available\")\n",
    "x.get(4, \"not available\")"
   ]
  },
  {
   "cell_type": "markdown",
   "metadata": {},
   "source": [
    "### sets"
   ]
  },
  {
   "cell_type": "code",
   "execution_count": 28,
   "metadata": {},
   "outputs": [
    {
     "data": {
      "text/plain": [
       "{1, 2, 3, 5}"
      ]
     },
     "execution_count": 28,
     "metadata": {},
     "output_type": "execute_result"
    },
    {
     "data": {
      "text/plain": [
       "True"
      ]
     },
     "execution_count": 28,
     "metadata": {},
     "output_type": "execute_result"
    },
    {
     "data": {
      "text/plain": [
       "False"
      ]
     },
     "execution_count": 28,
     "metadata": {},
     "output_type": "execute_result"
    }
   ],
   "source": [
    "x = set([1,2,3,1,3,5])\n",
    "x\n",
    "1 in x\n",
    "4 in x"
   ]
  },
  {
   "cell_type": "markdown",
   "metadata": {},
   "source": [
    "### file objects"
   ]
  },
  {
   "cell_type": "code",
   "execution_count": 29,
   "metadata": {},
   "outputs": [],
   "source": [
    "import os"
   ]
  },
  {
   "cell_type": "code",
   "execution_count": 30,
   "metadata": {},
   "outputs": [
    {
     "data": {
      "text/plain": [
       "'/Users/miceli/GitHub/TheQuickPythonBookEd3/ch3_the_quick_python_overview'"
      ]
     },
     "execution_count": 30,
     "metadata": {},
     "output_type": "execute_result"
    }
   ],
   "source": [
    "os.chdir('/Users/miceli/GitHub/TheQuickPythonBookEd3/ch3_the_quick_python_overview')\n",
    "os.getcwd()"
   ]
  },
  {
   "cell_type": "code",
   "execution_count": 31,
   "metadata": {},
   "outputs": [
    {
     "data": {
      "text/plain": [
       "44"
      ]
     },
     "execution_count": 31,
     "metadata": {},
     "output_type": "execute_result"
    }
   ],
   "source": [
    "f = open(\"myfile\", \"w\")\n",
    "f.write(\"First line with necessary newline character\\n\")"
   ]
  },
  {
   "cell_type": "code",
   "execution_count": 32,
   "metadata": {},
   "outputs": [
    {
     "data": {
      "text/plain": [
       "33"
      ]
     },
     "execution_count": 32,
     "metadata": {},
     "output_type": "execute_result"
    }
   ],
   "source": [
    "f.write(\"Second line to write to the file\\n\")"
   ]
  },
  {
   "cell_type": "code",
   "execution_count": 33,
   "metadata": {},
   "outputs": [],
   "source": [
    "f.close()"
   ]
  },
  {
   "cell_type": "code",
   "execution_count": 34,
   "metadata": {},
   "outputs": [
    {
     "name": "stdout",
     "output_type": "stream",
     "text": [
      "First line with necessary newline character\n",
      "Second line to write to the file\n",
      "\n",
      "First line with necessary newline character\n",
      " Second line to write to the file\n",
      "\n"
     ]
    }
   ],
   "source": [
    "f = open(\"myfile\", \"r\")\n",
    "line1 = f.readline()\n",
    "line2 = f.readline()\n",
    "f.close()\n",
    "print(line1 + line2)\n",
    "print(line1, line2)"
   ]
  },
  {
   "cell_type": "code",
   "execution_count": 35,
   "metadata": {},
   "outputs": [
    {
     "name": "stdout",
     "output_type": "stream",
     "text": [
      "/Users/miceli/GitHub/TheQuickPythonBookEd3/ch3_the_quick_python_overview\n"
     ]
    }
   ],
   "source": [
    "import os\n",
    "home = os.getcwd()\n",
    "print(os.getcwd())"
   ]
  },
  {
   "cell_type": "code",
   "execution_count": 36,
   "metadata": {},
   "outputs": [
    {
     "name": "stdout",
     "output_type": "stream",
     "text": [
      "/Users/miceli/GitHub\n"
     ]
    }
   ],
   "source": [
    "os.chdir(os.path.join(\"/Users\", \"miceli\", \"GitHub\"))\n",
    "print(os.getcwd())"
   ]
  },
  {
   "cell_type": "code",
   "execution_count": 37,
   "metadata": {},
   "outputs": [
    {
     "name": "stdout",
     "output_type": "stream",
     "text": [
      "/Users/miceli/GitHub/TheQuickPythonBookEd3/ch3_the_quick_python_overview/myfile\n",
      "First line with necessary newline character\n",
      "\n"
     ]
    }
   ],
   "source": [
    "filename = os.path.join(\"/Users\", \"miceli\", \"GitHub\", \"TheQuickPythonBookEd3\", \"ch3_the_quick_python_overview\", \"myfile\")\n",
    "print(filename)\n",
    "f = open(filename, \"r\")\n",
    "print(f.readline())\n",
    "f.close()"
   ]
  },
  {
   "cell_type": "code",
   "execution_count": 38,
   "metadata": {},
   "outputs": [],
   "source": [
    "# put stuff back how it was\n",
    "os.remove(filename)\n",
    "os.chdir(home)"
   ]
  },
  {
   "cell_type": "markdown",
   "metadata": {},
   "source": [
    "## 3.3 Control flow structures"
   ]
  },
  {
   "cell_type": "markdown",
   "metadata": {},
   "source": [
    "### if-elif-else statement"
   ]
  },
  {
   "cell_type": "code",
   "execution_count": 39,
   "metadata": {},
   "outputs": [
    {
     "name": "stdout",
     "output_type": "stream",
     "text": [
      "5 0 10\n"
     ]
    }
   ],
   "source": [
    "x = 5\n",
    "if x < 5:\n",
    "    y = -1\n",
    "    z = 5\n",
    "elif x > 5:\n",
    "    y = 1\n",
    "    z = 11\n",
    "else:\n",
    "    y = 0\n",
    "    z = 10\n",
    "print(x, y, z)"
   ]
  },
  {
   "cell_type": "markdown",
   "metadata": {},
   "source": [
    "### while loop"
   ]
  },
  {
   "cell_type": "code",
   "execution_count": 40,
   "metadata": {},
   "outputs": [
    {
     "name": "stdout",
     "output_type": "stream",
     "text": [
      "30 32 38 30\n",
      "60 40 0 30\n",
      "60 40\n"
     ]
    }
   ],
   "source": [
    "u, v, x, y = 0, 0, 100, 30\n",
    "while x > y:\n",
    "    u = u + y\n",
    "    x = x - y\n",
    "    if x < y + 2:\n",
    "        v += x\n",
    "        x = 0\n",
    "    else:\n",
    "        v += y +2\n",
    "        x += -y -2\n",
    "    print(u, v, x, y)\n",
    "print(u, v)"
   ]
  },
  {
   "cell_type": "markdown",
   "metadata": {},
   "source": [
    "### for loop"
   ]
  },
  {
   "cell_type": "code",
   "execution_count": 41,
   "metadata": {},
   "outputs": [
    {
     "name": "stdout",
     "output_type": "stream",
     "text": [
      "3\n",
      "string1\n",
      "23\n",
      "14.0\n",
      "string2\n",
      "49\n",
      "found an integer divisible by seven: 49\n"
     ]
    }
   ],
   "source": [
    "item_list = [3, \"string1\", 23, 14.0, \"string2\", 49, 64, 70]\n",
    "for x in item_list:\n",
    "    print(x)\n",
    "    if not isinstance(x, int):\n",
    "        continue\n",
    "    if not x % 7:\n",
    "        print(\"found an integer divisible by seven: %d\" %x)\n",
    "        break"
   ]
  },
  {
   "cell_type": "markdown",
   "metadata": {},
   "source": [
    "### function definition"
   ]
  },
  {
   "cell_type": "code",
   "execution_count": 42,
   "metadata": {},
   "outputs": [],
   "source": [
    "def funct1(x, y, z):\n",
    "    value = x + 2 * y + z ** 2\n",
    "    if value > 0:\n",
    "        return x + 2 * y + z ** 2\n",
    "    else:\n",
    "        return 0"
   ]
  },
  {
   "cell_type": "code",
   "execution_count": 43,
   "metadata": {},
   "outputs": [
    {
     "data": {
      "text/plain": [
       "15"
      ]
     },
     "execution_count": 43,
     "metadata": {},
     "output_type": "execute_result"
    },
    {
     "data": {
      "text/plain": [
       "23"
      ]
     },
     "execution_count": 43,
     "metadata": {},
     "output_type": "execute_result"
    }
   ],
   "source": [
    "u, v = 3, 4\n",
    "funct1(u, v, 2)\n",
    "funct1(u, z=v, y=2)"
   ]
  },
  {
   "cell_type": "code",
   "execution_count": 44,
   "metadata": {},
   "outputs": [
    {
     "data": {
      "text/plain": [
       "21"
      ]
     },
     "execution_count": 44,
     "metadata": {},
     "output_type": "execute_result"
    }
   ],
   "source": [
    "def funct2(x, y=1, z=1):\n",
    "    return x + 2 * y + z ** 2\n",
    "funct2(3, z=4)"
   ]
  },
  {
   "cell_type": "code",
   "execution_count": 45,
   "metadata": {},
   "outputs": [
    {
     "name": "stdout",
     "output_type": "stream",
     "text": [
      "(2, 1, 1)\n",
      "(1, 2, 3, 4, 5, 6, 7, 8, 9)\n"
     ]
    }
   ],
   "source": [
    "def funct3(x, y=1, z=1, *tup):\n",
    "    print((x, y, z) + tup)\n",
    "funct3(2)\n",
    "funct3(1, 2, 3, 4, 5, 6, 7, 8, 9)"
   ]
  },
  {
   "cell_type": "code",
   "execution_count": 46,
   "metadata": {},
   "outputs": [
    {
     "name": "stdout",
     "output_type": "stream",
     "text": [
      "1 2 3 {'m': 5, 'n': 9}\n"
     ]
    }
   ],
   "source": [
    "def funct4(x, y=1, z=1, **kwargs):\n",
    "    print(x, y, z, kwargs)\n",
    "funct4(1, 2, m=5, n=9, z=3)"
   ]
  },
  {
   "cell_type": "markdown",
   "metadata": {},
   "source": [
    "### exceptions"
   ]
  },
  {
   "cell_type": "code",
   "execution_count": 47,
   "metadata": {},
   "outputs": [
    {
     "name": "stdout",
     "output_type": "stream",
     "text": [
      "myfile1: Segundo.\n",
      "Done processing myfile1\n",
      "nonExistent: could not be opened: No such file or directory\n",
      "Done processing nonExistent\n",
      "emptyFile: is empty\n",
      "Done processing emptyFile\n",
      "myfile2: Nitoo.\n",
      "Done processing myfile2\n"
     ]
    }
   ],
   "source": [
    "class EmptyFileError(Exception):\n",
    "    pass\n",
    "os.chdir(home)\n",
    "filenames = [\"myfile1\", \"nonExistent\", \"emptyFile\", \"myfile2\"]\n",
    "for file in filenames:\n",
    "    try:\n",
    "        f = open(file, 'r')\n",
    "        line = f.readline()\n",
    "        if line == \"\":\n",
    "            f.close()\n",
    "            raise EmptyFileError(\"%s: is empty\" % file)\n",
    "    except IOError as error:\n",
    "        print(\"%s: could not be opened: %s\" % (file, error.strerror))\n",
    "    except EmptyFileError as error:\n",
    "        print(error)\n",
    "    else:\n",
    "        print(\"%s: %s\" % (file, f.readline()))\n",
    "    finally:\n",
    "        print(\"Done processing\", file)"
   ]
  },
  {
   "cell_type": "markdown",
   "metadata": {},
   "source": [
    "### context handling using the *with* keyword"
   ]
  },
  {
   "cell_type": "code",
   "execution_count": 48,
   "metadata": {},
   "outputs": [
    {
     "name": "stdout",
     "output_type": "stream",
     "text": [
      "<_io.TextIOWrapper name='myfile.txt' mode='r' encoding='UTF-8'>\n",
      "<_io.TextIOWrapper name='myfile.txt' mode='r' encoding='UTF-8'>\n"
     ]
    }
   ],
   "source": [
    "filename = \"myfile.txt\"\n",
    "with open(filename, \"r\") as f:\n",
    "    for line in f:\n",
    "        print(f)"
   ]
  },
  {
   "cell_type": "markdown",
   "metadata": {},
   "source": [
    "is equivalent to:"
   ]
  },
  {
   "cell_type": "code",
   "execution_count": 49,
   "metadata": {},
   "outputs": [
    {
     "name": "stdout",
     "output_type": "stream",
     "text": [
      "<_io.TextIOWrapper name='myfile.txt' mode='r' encoding='UTF-8'>\n",
      "<_io.TextIOWrapper name='myfile.txt' mode='r' encoding='UTF-8'>\n"
     ]
    }
   ],
   "source": [
    "filename = \"myfile.txt\"\n",
    "try:\n",
    "    f = open(filename, \"r\")\n",
    "    for line in f:\n",
    "        print(f)\n",
    "except Exception as e:\n",
    "    raise e\n",
    "finally:\n",
    "    f.close()"
   ]
  },
  {
   "cell_type": "code",
   "execution_count": 50,
   "metadata": {},
   "outputs": [],
   "source": [
    "# put stuff back how it was\n",
    "os.chdir(home)"
   ]
  },
  {
   "cell_type": "markdown",
   "metadata": {},
   "source": [
    "## 3.4 Module creation"
   ]
  },
  {
   "cell_type": "code",
   "execution_count": 51,
   "metadata": {},
   "outputs": [
    {
     "name": "stdout",
     "output_type": "stream",
     "text": [
      "Enter the name of the file: /Users/miceli/GitHub/TheQuickPythonBookEd3/ch3_the_quick_python_overview/foofoo.txt\n",
      "File /Users/miceli/GitHub/TheQuickPythonBookEd3/ch3_the_quick_python_overview/foofoo.txt has 19 words (17 are unique)\n",
      "{'little': 1, 'bunny': 1, 'foo': 2, 'hopping': 1, 'through': 1, 'the': 2, 'forest': 1, 'scooping': 1, 'up': 1, 'field': 1, 'mice': 1, 'and': 1, 'bopping': 1, 'them': 1, 'on': 1, 'their': 1, 'heads': 1}\n"
     ]
    }
   ],
   "source": [
    "import wo # note: the common directory has __init__.py in it.\n",
    "wo.words_occur() # enter /Users/miceli/GitHub/TheQuickPythonBookEd3/ch3_the_quick_python_overview/foofoo.txt"
   ]
  },
  {
   "cell_type": "markdown",
   "metadata": {},
   "source": [
    "## 3.5 Object-oriented programming"
   ]
  },
  {
   "cell_type": "code",
   "execution_count": 52,
   "metadata": {},
   "outputs": [
    {
     "name": "stdout",
     "output_type": "stream",
     "text": [
      "Circle of radius 1 at coordinates (0, 0)\n",
      "Circle of radius 5 at coordinates (15, 20)\n"
     ]
    },
    {
     "data": {
      "text/plain": [
       "78.53975"
      ]
     },
     "execution_count": 52,
     "metadata": {},
     "output_type": "execute_result"
    }
   ],
   "source": [
    "import sh\n",
    "c1 = sh.Circle()\n",
    "c2 = sh.Circle(5, 15, 20)\n",
    "print(c1)\n",
    "print(c2)\n",
    "c2.area()"
   ]
  },
  {
   "cell_type": "code",
   "execution_count": 53,
   "metadata": {},
   "outputs": [
    {
     "name": "stdout",
     "output_type": "stream",
     "text": [
      "Circle of radius 5 at coordinates (20, 26)\n"
     ]
    }
   ],
   "source": [
    "c2.move(5,6)\n",
    "print(c2)"
   ]
  },
  {
   "cell_type": "code",
   "execution_count": null,
   "metadata": {},
   "outputs": [],
   "source": []
  }
 ],
 "metadata": {
  "kernelspec": {
   "display_name": "Python 3",
   "language": "python",
   "name": "python3"
  },
  "language_info": {
   "codemirror_mode": {
    "name": "ipython",
    "version": 3
   },
   "file_extension": ".py",
   "mimetype": "text/x-python",
   "name": "python",
   "nbconvert_exporter": "python",
   "pygments_lexer": "ipython3",
   "version": "3.7.4"
  }
 },
 "nbformat": 4,
 "nbformat_minor": 2
}
